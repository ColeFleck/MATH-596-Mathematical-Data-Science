{
 "cells": [
  {
   "cell_type": "code",
   "execution_count": null,
   "id": "ef332651",
   "metadata": {},
   "outputs": [],
   "source": [
    "import numpy as np\n",
    "from scipy.fft import fft, ifft, fftshift\n",
    "from sklearn.linear_model import Lasso\n",
    "import matplotlib.pyplot as plt\n",
    "import pickle\n",
    "from copy import copy\n",
    "%matplotlib inline"
   ]
  },
  {
   "cell_type": "code",
   "execution_count": null,
   "id": "95dd0758",
   "metadata": {},
   "outputs": [],
   "source": [
    "with open('data_set_1.pkl', 'rb') as f:\n",
    "    data_set_1 = pickle.load(f)\n",
    "\n",
    "xvals1 = data_set_1[:, 0]\n",
    "yvals1 = data_set_1[:, 1]"
   ]
  },
  {
   "cell_type": "code",
   "execution_count": null,
   "id": "fa25cdfd",
   "metadata": {},
   "outputs": [],
   "source": [
    "def xp_mat_maker(xvals, p):\n",
    "    xp = np.ones((xvals.size, p+1))\n",
    "    for jj in range(p):\n",
    "        xp[:, jj+1] = xvals * xp[:, jj]\n",
    "    return xp"
   ]
  },
  {
   "cell_type": "code",
   "execution_count": null,
   "id": "0ec40d4b",
   "metadata": {},
   "outputs": [],
   "source": [
    "def least_squares_solve(mat, yvals):\n",
    "    u, s, vt = np.linalg.svd(mat, full_matrices=False)\n",
    "    alpha = (vt.T @ np.diag(1./s) @ u.T) @ yvals.reshape(-1, 1)\n",
    "    error = np.linalg.norm(mat @ alpha - yvals.reshape(-1, 1))**2./(2.*yvals.size)\n",
    "    return alpha, error "
   ]
  },
  {
   "cell_type": "code",
   "execution_count": null,
   "id": "7a256749",
   "metadata": {},
   "outputs": [],
   "source": [
    "def cross_fold(alpha, xvals, yvals, pval, kfolds):\n",
    "    inds = np.arange(yvals.size)\n",
    "    alpha_avg = np.zeros(pval+1)\n",
    "    np.random.shuffle(inds)\n",
    "    train_range = yvals[inds]\n",
    "    train_domain = xvals[inds]\n",
    "    bucket_size = int(np.floor(yvals.size/kfolds))\n",
    "    for jj in range(kfolds):\n",
    "        bvec_train = train_range[jj*bucket_size:(jj+1)*bucket_size]\n",
    "        xp_train = xp_mat_maker(train_domain[jj*bucket_size:(jj+1)*bucket_size], pval)        \n",
    "        res = Lasso(alpha, max_iter=4000).fit(xp_train, bvec_train) # alpha > 0\n",
    "        alpha_lasso = res.coef_\n",
    "        alpha_avg += alpha_lasso\n",
    "    alpha_avg /= kfolds\n",
    "    return alpha_avg\n",
    "    \n",
    "def error_testing(alpha, xvals, yvals, pval):    \n",
    "    num_experiments = 1000    \n",
    "    errors = np.zeros(num_experiments)        \n",
    "    inds = np.arange(yvals.size)\n",
    "    expsize = round(.1*yvals.size)\n",
    "    for jj in range(num_experiments):\n",
    "        np.random.shuffle(inds)\n",
    "        shuffle_range = yvals[inds]\n",
    "        bvec = shuffle_range[:expsize].reshape(-1,1)\n",
    "        shuffle_domain = xvals[inds]\n",
    "        xp = xp_mat_maker(shuffle_domain[:expsize], pval)\n",
    "        errors[jj] = np.linalg.norm(xp@alpha.reshape(-1, 1) - bvec)     \n",
    "    mean_err = np.mean(errors)\n",
    "    stand_dev = np.std(errors)\n",
    "    return mean_err, stand_dev"
   ]
  },
  {
   "cell_type": "code",
   "execution_count": null,
   "id": "e3a1ac30",
   "metadata": {},
   "outputs": [],
   "source": [
    "plt.scatter(xvals1, yvals1, s=1.)"
   ]
  },
  {
   "cell_type": "code",
   "execution_count": null,
   "id": "acfa228a",
   "metadata": {},
   "outputs": [],
   "source": [
    "# rescale data\n",
    "xmax = np.max(xvals1)\n",
    "ymax = np.max(yvals1)\n",
    "ymin = np.min(yvals1)\n",
    "xvalsrsc = xvals1/xmax\n",
    "yvalsrsc = (yvals1-ymin)/(ymax-ymin)\n",
    "plt.scatter(xvalsrsc, yvalsrsc, s=1.)"
   ]
  },
  {
   "cell_type": "code",
   "execution_count": null,
   "id": "efbcf24d",
   "metadata": {},
   "outputs": [],
   "source": [
    "pval = 4\n",
    "xp = xp_mat_maker(xvalsrsc, pval)\n",
    "alpha, error = least_squares_solve(xp, yvalsrsc)\n",
    "yfit = xp @ alpha.reshape(-1,1)\n",
    "plt.plot(xvalsrsc, yfit, color='r')\n",
    "plt.scatter(xvalsrsc, yvalsrsc, s=1.)"
   ]
  },
  {
   "cell_type": "code",
   "execution_count": null,
   "id": "174d15a9",
   "metadata": {},
   "outputs": [],
   "source": [
    "yfit = (ymax-ymin)*yfit + ymin\n",
    "plt.plot(xvals1,yfit,color='r')\n",
    "plt.scatter(xvals1, yvals1, s=1.)"
   ]
  },
  {
   "cell_type": "code",
   "execution_count": null,
   "id": "d888c86f",
   "metadata": {},
   "outputs": [],
   "source": [
    "numlams = 30\n",
    "lampows = np.linspace(-4., -1.5, numlams) # choices, choices\n",
    "errors = np.zeros(lampows.size)\n",
    "stds = np.zeros(lampows.size)\n",
    "pval = 8\n",
    "kfolds = 10\n",
    "train_size = round(.9*yvalsrsc.size)\n",
    "avalsvslam = np.zeros((pval+1, numlams))\n",
    "for jj, lampow in enumerate(lampows):\n",
    "    lam = 10**(lampow)\n",
    "    xtrain = xvalsrsc[:train_size]\n",
    "    ytrain = yvalsrsc[:train_size]\n",
    "    xtest = xvalsrsc[train_size:]\n",
    "    ytest = yvalsrsc[train_size:]\n",
    "    \n",
    "    alpha_avg = cross_fold(lam, xtrain, ytrain, pval, kfolds)\n",
    "    mean, std = error_testing(alpha_avg, xtest, ytest, pval) # alpha = 10^pow\n",
    "    avalsvslam[:, jj] = alpha_avg\n",
    "    errors[jj] = mean\n",
    "    stds[jj] = std"
   ]
  },
  {
   "cell_type": "code",
   "execution_count": null,
   "id": "fc75e3cb",
   "metadata": {},
   "outputs": [],
   "source": [
    "plt.plot(lampows, errors) # how would you plot the standard devations as error bars around the mean of the error?\n",
    "for jj in range(stds.size):\n",
    "    ejp = errors[jj] + stds[jj]\n",
    "    ejm = errors[jj] - stds[jj]\n",
    "    plt.plot([lampows[jj], lampows[jj]], [ejm, ejp], ls='--', c='r')\n",
    "plt.xlabel(r\"$\\log_{10}(\\lambda)$\");\n",
    "plt.ylabel(r\"Mean Error\")"
   ]
  },
  {
   "cell_type": "code",
   "execution_count": null,
   "id": "ab943d7a",
   "metadata": {},
   "outputs": [],
   "source": [
    "cfig = plt.pcolormesh(lampows, np.arange(pval+1), avalsvslam)\n",
    "plt.xlabel(r\"$\\log_{10}(\\lambda)$\")\n",
    "plt.ylabel(r\"$\\alpha_{j}$\")\n",
    "plt.colorbar(cfig);"
   ]
  },
  {
   "cell_type": "code",
   "execution_count": null,
   "id": "f75c5d07",
   "metadata": {},
   "outputs": [],
   "source": []
  }
 ],
 "metadata": {
  "kernelspec": {
   "display_name": "Python 3 (ipykernel)",
   "language": "python",
   "name": "python3"
  },
  "language_info": {
   "codemirror_mode": {
    "name": "ipython",
    "version": 3
   },
   "file_extension": ".py",
   "mimetype": "text/x-python",
   "name": "python",
   "nbconvert_exporter": "python",
   "pygments_lexer": "ipython3",
   "version": "3.11.4"
  }
 },
 "nbformat": 4,
 "nbformat_minor": 5
}
