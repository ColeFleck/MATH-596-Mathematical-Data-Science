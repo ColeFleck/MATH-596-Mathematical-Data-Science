{
 "cells": [
  {
   "cell_type": "code",
   "execution_count": null,
   "metadata": {},
   "outputs": [],
   "source": [
    "import numpy as np\n",
    "import matplotlib.pyplot as plt\n",
    "import os \n",
    "from itertools import islice\n",
    "%matplotlib inline\n",
    "\n",
    "import torch\n",
    "import torchvision\n",
    "from torchvision import transforms\n",
    "from torch.utils.data import DataLoader, Subset\n",
    "import torch.nn as nn"
   ]
  },
  {
   "cell_type": "markdown",
   "metadata": {},
   "source": [
    "## Getting the MNIST Data Set\n",
    "\n",
    "We have access to a number of now standard datasets via PyTorch directly.  So to get MNIST set up, all we need to do is the following."
   ]
  },
  {
   "cell_type": "code",
   "execution_count": null,
   "metadata": {},
   "outputs": [],
   "source": [
    "image_path = './' # just store everything to your local working directory\n",
    "mnist_data_path = image_path + '/MNIST'\n",
    "\n",
    "transform = transforms.Compose([transforms.ToTensor()])\n",
    "\n",
    "if not os.path.isdir(mnist_data_path): # if you've already downloaded and converted the MNIST images, skip\n",
    "\n",
    "    # Download and convert MNIST images into tensor format. \n",
    "    mnist_dataset = torchvision.datasets.MNIST(image_path, train=True, transform=transform, download=True)\n",
    "    mnist_dataset_test = torchvision.datasets.MNIST(image_path, train=False, transform=transform, download=True)\n",
    "     # Sanity check to make sure your download worke\n",
    "    assert isinstance(mnist_dataset, torch.utils.data.Dataset)\n",
    "\n",
    "else:\n",
    "    # Download and convert MNIST images into tensor format. \n",
    "    mnist_dataset = torchvision.datasets.MNIST(image_path, train=True, transform=transform, download=False)\n",
    "    mnist_dataset_test = torchvision.datasets.MNIST(image_path, train=False, transform=transform, download=False)\n",
    "\n",
    "mnist_dataset_valid = Subset(mnist_dataset, torch.arange(10000))\n",
    "mnist_dataset_train = Subset(mnist_dataset, torch.arange(10000, len(mnist_dataset)))\n"
   ]
  },
  {
   "cell_type": "code",
   "execution_count": null,
   "metadata": {},
   "outputs": [],
   "source": [
    "fig = plt.figure(figsize=(15,6))\n",
    "for ii, (image, label) in islice(enumerate(mnist_dataset_train),10):\n",
    "    ax = fig.add_subplot(2,5,ii+1)\n",
    "    ax.set_xticks([])\n",
    "    ax.set_yticks([])\n",
    "    ax.imshow(torch.squeeze(image,0), cmap='gray_r')\n",
    "    ax.set_title(f'{label}', size=15)"
   ]
  },
  {
   "cell_type": "markdown",
   "metadata": {},
   "source": [
    "Here we decide on a batch size for running Stochastic Gradient Descent and then get our training data into the proper format for iterating over epochs with a random shuffle into new batches at every iteration.  "
   ]
  },
  {
   "cell_type": "code",
   "execution_count": null,
   "metadata": {},
   "outputs": [],
   "source": [
    "batch_size = 64\n",
    "torch.manual_seed(1)\n",
    "train_dl = DataLoader(mnist_dataset_train, batch_size, shuffle=True)\n",
    "valid_dl = DataLoader(mnist_dataset_valid, batch_size, shuffle=False)"
   ]
  },
  {
   "cell_type": "markdown",
   "metadata": {},
   "source": [
    "## Building the Model"
   ]
  },
  {
   "cell_type": "code",
   "execution_count": null,
   "metadata": {},
   "outputs": [],
   "source": [
    "model = nn.Sequential()\n",
    "\n",
    "# First convoultional/pooling layer\n",
    "model.add_module(\n",
    "    'conv1',\n",
    "    nn.Conv2d(\n",
    "        in_channels=1, out_channels=32,\n",
    "        kernel_size=5, padding=2\n",
    "    )\n",
    ")\n",
    "model.add_module('relu1', nn.ReLU())\n",
    "model.add_module('pool1', nn.MaxPool2d(kernel_size=2))\n",
    "\n",
    "# Second convoultional/pooling layer\n",
    "model.add_module(\n",
    "    'conv2',\n",
    "    nn.Conv2d(\n",
    "        in_channels=32, out_channels=64,\n",
    "        kernel_size=5, padding=2\n",
    "    )\n",
    ")\n",
    "model.add_module('relu2', nn.ReLU())\n",
    "model.add_module('pool2', nn.MaxPool2d(kernel_size=2))\n",
    "\n",
    "# Fully connected classifier label like we had before\n",
    "model.add_module('flatten', nn.Flatten())\n",
    "\n",
    "# We need to know how large of a vector our model will produce,\n",
    "# so we introduce a little hack.\n",
    "\n",
    "x = torch.ones((4, 1, 28, 28))\n",
    "dims = model(x).shape\n",
    "\n",
    "# Now that we know the right sizes to use, we build our \n",
    "# connected network with droput before we get to the \n",
    "# classifier.\n",
    "\n",
    "model.add_module('fc1', nn.Linear(dims[1], 1024))\n",
    "model.add_module('relu3', nn.ReLU())\n",
    "model.add_module('dropout', nn.Dropout(p=0.5))\n",
    "model.add_module('fc2', nn.Linear(1024, 10))"
   ]
  },
  {
   "cell_type": "markdown",
   "metadata": {},
   "source": [
    "## Choosing the Loss Function and Optimizer"
   ]
  },
  {
   "cell_type": "code",
   "execution_count": null,
   "metadata": {},
   "outputs": [],
   "source": [
    "loss_fn = nn.CrossEntropyLoss()\n",
    "optimizer = torch.optim.Adam(model.parameters(), lr=1e-3)"
   ]
  },
  {
   "cell_type": "markdown",
   "metadata": {},
   "source": [
    "## Training across Epochs"
   ]
  },
  {
   "cell_type": "code",
   "execution_count": null,
   "metadata": {},
   "outputs": [],
   "source": [
    "num_epochs = 20\n",
    "loss_history_train = np.zeros(num_epochs)\n",
    "accuracy_history_train = np.zeros(num_epochs)\n",
    "loss_history_valid = np.zeros(num_epochs)\n",
    "accuracy_history_valid = np.zeros(num_epochs)\n",
    "\n",
    "for epoch in range(num_epochs):\n",
    "    model.train() \n",
    "    for x_batch, y_batch in train_dl:\n",
    "        pred = model(x_batch)\n",
    "        loss = loss_fn(pred, y_batch)\n",
    "        loss.backward() # perform backpropagation\n",
    "        optimizer.step() # optimize over the given batch\n",
    "        optimizer.zero_grad() # zero out the gradient for the next iteration\n",
    "        is_correct = (torch.argmax(pred, dim=1) == y_batch).float()\n",
    "        loss_history_train[epoch] += loss.item()*y_batch.size(0)\n",
    "        accuracy_history_train[epoch] += is_correct.sum()\n",
    "\n",
    "    loss_history_train[epoch] /= len(train_dl.dataset)\n",
    "    accuracy_history_train[epoch] /= len(train_dl.dataset)\n",
    "    model.eval() # Note, we need model.train() and model.eval() to manage the dropout layer correctly \n",
    "    \n",
    "    # We now look at validation data as we train to get a sense of how generalizable our model is to test data.\n",
    "\n",
    "    with torch.no_grad(): # don't optimize at this point, i.e. keep all weights fixed \n",
    "        for x_batch, y_batch in valid_dl:\n",
    "            pred = model(x_batch)\n",
    "            loss = loss_fn(pred, y_batch)\n",
    "            is_correct = (torch.argmax(pred, dim=1) == y_batch).float()\n",
    "            loss_history_valid[epoch] += loss.item()*y_batch.size(0)\n",
    "            accuracy_history_valid[epoch] += is_correct.sum()\n",
    "    loss_history_valid[epoch] /= len(valid_dl.dataset)\n",
    "    accuracy_history_valid[epoch] /= len(valid_dl.dataset)\n",
    "    \n",
    "    print(f\"Epoch {epoch} accuracy: {accuracy_history_train[epoch]:.4f} \"\n",
    "          f\"val_accuracy: {accuracy_history_valid[epoch]}\")\n"
   ]
  },
  {
   "cell_type": "code",
   "execution_count": null,
   "metadata": {},
   "outputs": [],
   "source": [
    "x_arr = np.arange(num_epochs)\n",
    "fig = plt.figure(figsize=(12,4))\n",
    "ax=fig.add_subplot(1,2,1)\n",
    "ax.plot(x_arr, loss_history_train, '-o', label='Training Loss')\n",
    "ax.plot(x_arr, loss_history_valid, '-o', label='Validation Loss')\n",
    "ax.legend()\n",
    "\n",
    "ax=fig.add_subplot(1,2,2)\n",
    "ax.plot(x_arr, accuracy_history_train, '-o', label='Training Accuracy')\n",
    "ax.plot(x_arr, accuracy_history_valid, '-o', label='Validation Accuracy')\n",
    "ax.legend()"
   ]
  },
  {
   "cell_type": "markdown",
   "metadata": {},
   "source": [
    "## Testing Our Trained Model "
   ]
  },
  {
   "cell_type": "code",
   "execution_count": null,
   "metadata": {},
   "outputs": [],
   "source": [
    "test_data = mnist_dataset_test.data/255.\n",
    "test_pred = model(test_data.unsqueeze(1))\n",
    "is_correct = (torch.argmax(test_pred, dim=1) == mnist_dataset_test.targets ).float()\n",
    "print(f'Test Accuracy is: {is_correct.mean():.4f}')"
   ]
  }
 ],
 "metadata": {
  "kernelspec": {
   "display_name": "math_596_fall_2024",
   "language": "python",
   "name": "python3"
  },
  "language_info": {
   "codemirror_mode": {
    "name": "ipython",
    "version": 3
   },
   "file_extension": ".py",
   "mimetype": "text/x-python",
   "name": "python",
   "nbconvert_exporter": "python",
   "pygments_lexer": "ipython3",
   "version": "3.12.4"
  }
 },
 "nbformat": 4,
 "nbformat_minor": 2
}
