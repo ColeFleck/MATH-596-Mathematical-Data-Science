{
 "cells": [
  {
   "cell_type": "code",
   "execution_count": 1,
   "metadata": {},
   "outputs": [],
   "source": [
    "import numpy as np\n",
    "import matplotlib.pyplot as plt\n",
    "import os \n",
    "from itertools import islice\n",
    "%matplotlib inline\n",
    "\n",
    "import torch\n",
    "import torchvision\n",
    "from torchvision import transforms\n",
    "from torch.utils.data import DataLoader, TensorDataset\n",
    "import torch.nn as nn"
   ]
  },
  {
   "cell_type": "markdown",
   "metadata": {},
   "source": [
    "## Getting the MNIST Data Set\n",
    "\n",
    "We have access to a number of now standard datasets via PyTorch directly.  So to get MNIST set up, all we need to do is the following."
   ]
  },
  {
   "cell_type": "code",
   "execution_count": 2,
   "metadata": {},
   "outputs": [],
   "source": [
    "image_path = './' # just store everything to your local working directory\n",
    "mnist_data_path = image_path + '/MNIST'\n",
    "\n",
    "transform = transforms.Compose([transforms.ToTensor()])\n",
    "\n",
    "if not os.path.isdir(mnist_data_path): # if you've already downloaded and converted the MNIST images, skip\n",
    "\n",
    "    # Download and convert MNIST images into tensor format. \n",
    "    mnist_dataset_train = torchvision.datasets.MNIST(image_path, train=True, transform=transform, download=True)\n",
    "    mnist_dataset_test = torchvision.datasets.MNIST(image_path, train=False, transform=transform, download=True)\n",
    "\n",
    "     # Sanity check to make sure your download worke\n",
    "    assert isinstance(mnist_dataset_train, torch.utils.data.Dataset)\n",
    "\n",
    "else:\n",
    "    # Download and convert MNIST images into tensor format. \n",
    "    mnist_dataset_train = torchvision.datasets.MNIST(image_path, train=True, transform=transform, download=False)\n",
    "    mnist_dataset_test = torchvision.datasets.MNIST(image_path, train=False, transform=transform, download=False)\n",
    "\n"
   ]
  },
  {
   "cell_type": "code",
   "execution_count": 3,
   "metadata": {},
   "outputs": [
    {
     "data": {
      "image/png": "[encoded data removed]",
      "text/plain": [
       "<Figure size 1500x600 with 10 Axes>"
      ]
     },
     "metadata": {},
     "output_type": "display_data"
    }
   ],
   "source": [
    "fig = plt.figure(figsize=(15,6))\n",
    "for ii, (image, label) in islice(enumerate(mnist_dataset_train),10):\n",
    "    ax = fig.add_subplot(2,5,ii+1)\n",
    "    ax.set_xticks([])\n",
    "    ax.set_yticks([])\n",
    "    ax.imshow(torch.squeeze(image,0), cmap='gray_r')\n",
    "    ax.set_title(f'{label}', size=15)"
   ]
  },
  {
   "cell_type": "markdown",
   "metadata": {},
   "source": [
    "Here we decide on a batch size for running Stochastic Gradient Descent and then get our training data into the proper format for iterating over epochs with a random shuffle into new batches at every iteration.  "
   ]
  },
  {
   "cell_type": "code",
   "execution_count": 4,
   "metadata": {},
   "outputs": [],
   "source": [
    "batch_size = 64\n",
    "torch.manual_seed(1)\n",
    "train_dl = DataLoader(mnist_dataset_train, batch_size, shuffle=True)"
   ]
  },
  {
   "cell_type": "markdown",
   "metadata": {},
   "source": [
    "## Building the Model"
   ]
  },
  {
   "cell_type": "code",
   "execution_count": 5,
   "metadata": {},
   "outputs": [
    {
     "data": {
      "text/plain": [
       "Sequential(\n",
       "  (0): Flatten(start_dim=1, end_dim=-1)\n",
       "  (1): Linear(in_features=784, out_features=32, bias=True)\n",
       "  (2): Sigmoid()\n",
       "  (3): Linear(in_features=32, out_features=16, bias=True)\n",
       "  (4): Sigmoid()\n",
       "  (5): Linear(in_features=16, out_features=10, bias=True)\n",
       ")"
      ]
     },
     "execution_count": 5,
     "metadata": {},
     "output_type": "execute_result"
    }
   ],
   "source": [
    "hidden_units = [32, 16]\n",
    "image_size = mnist_dataset_train[0][0].shape\n",
    "input_size = image_size[0] * image_size[1] * image_size[2]\n",
    "all_layers = [nn.Flatten()] # the first thing in your list of layers is a flattening operation\n",
    "for hidden_unit in hidden_units: \n",
    "    layer = nn.Linear(input_size, hidden_unit)\n",
    "    all_layers.append(layer)\n",
    "    all_layers.append(nn.Sigmoid())\n",
    "    input_size = hidden_unit\n",
    "all_layers.append(nn.Linear(hidden_units[-1], 10))\n",
    "model = nn.Sequential(*all_layers) # note the \"*\" unpacks the list into individual entries.  Just treat as boilerplate for now.  \n",
    "model"
   ]
  },
  {
   "cell_type": "markdown",
   "metadata": {},
   "source": [
    "## Choosing the Loss Function and Optimizer"
   ]
  },
  {
   "cell_type": "code",
   "execution_count": 6,
   "metadata": {},
   "outputs": [],
   "source": [
    "loss_fn = nn.CrossEntropyLoss()\n",
    "optimizer = torch.optim.Adam(model.parameters(), lr=1e-3)"
   ]
  },
  {
   "cell_type": "markdown",
   "metadata": {},
   "source": [
    "## Training across Epochs"
   ]
  },
  {
   "cell_type": "code",
   "execution_count": 7,
   "metadata": {},
   "outputs": [
    {
     "name": "stdout",
     "output_type": "stream",
     "text": [
      "Epoch 0 Accuracy 0.6854\n",
      "Epoch 1 Accuracy 0.8994\n",
      "Epoch 2 Accuracy 0.9230\n",
      "Epoch 3 Accuracy 0.9372\n",
      "Epoch 4 Accuracy 0.9452\n",
      "Epoch 5 Accuracy 0.9519\n",
      "Epoch 6 Accuracy 0.9568\n",
      "Epoch 7 Accuracy 0.9603\n",
      "Epoch 8 Accuracy 0.9637\n",
      "Epoch 9 Accuracy 0.9660\n",
      "Epoch 10 Accuracy 0.9687\n",
      "Epoch 11 Accuracy 0.9707\n",
      "Epoch 12 Accuracy 0.9726\n",
      "Epoch 13 Accuracy 0.9740\n",
      "Epoch 14 Accuracy 0.9754\n",
      "Epoch 15 Accuracy 0.9769\n",
      "Epoch 16 Accuracy 0.9774\n",
      "Epoch 17 Accuracy 0.9791\n",
      "Epoch 18 Accuracy 0.9797\n",
      "Epoch 19 Accuracy 0.9808\n"
     ]
    }
   ],
   "source": [
    "num_epochs = 20\n",
    "for epoch in range(num_epochs):\n",
    "    accuracy_hist_train = 0\n",
    "    for x_batch, y_batch in train_dl:\n",
    "        pred = model(x_batch)\n",
    "        loss = loss_fn(pred, y_batch)\n",
    "        loss.backward() # perform backpropagation\n",
    "        optimizer.step() # optimize over the given batch\n",
    "        optimizer.zero_grad() \n",
    "        is_correct = (torch.argmax(pred, dim=1) == y_batch).float()\n",
    "        accuracy_hist_train += is_correct.sum()\n",
    "    accuracy_hist_train /= len(train_dl.dataset)\n",
    "    print(f\"Epoch {epoch} Accuracy {accuracy_hist_train:.4f}\")"
   ]
  },
  {
   "cell_type": "markdown",
   "metadata": {},
   "source": [
    "## Testing Our Trained Model "
   ]
  },
  {
   "cell_type": "code",
   "execution_count": 10,
   "metadata": {},
   "outputs": [
    {
     "name": "stdout",
     "output_type": "stream",
     "text": [
      "Test Accuracy is: 0.9605\n"
     ]
    }
   ],
   "source": [
    "test_pred = model(mnist_dataset_test.data/255.)\n",
    "is_correct = (torch.argmax(test_pred, dim=1) == mnist_dataset_test.targets ).float()\n",
    "print(f'Test Accuracy is: {is_correct.mean():.4f}')"
   ]
  },
  {
   "cell_type": "code",
   "execution_count": null,
   "metadata": {},
   "outputs": [],
   "source": []
  }
 ],
 "metadata": {
  "kernelspec": {
   "display_name": "math_596_fall_2024",
   "language": "python",
   "name": "python3"
  },
  "language_info": {
   "codemirror_mode": {
    "name": "ipython",
    "version": 3
   },
   "file_extension": ".py",
   "mimetype": "text/x-python",
   "name": "python",
   "nbconvert_exporter": "python",
   "pygments_lexer": "ipython3",
   "version": "3.12.4"
  }
 },
 "nbformat": 4,
 "nbformat_minor": 2
}
