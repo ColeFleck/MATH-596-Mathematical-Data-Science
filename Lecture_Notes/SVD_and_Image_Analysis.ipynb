{
 "cells": [
  {
   "cell_type": "code",
   "execution_count": null,
   "id": "c05d6f4a",
   "metadata": {},
   "outputs": [],
   "source": [
    "# Load core libraries and utilities\n",
    "import numpy as np\n",
    "import matplotlib.pyplot as plt\n",
    "from skimage import io\n",
    "\n",
    "# Jupyter notebook \"magic\"\n",
    "%matplotlib inline"
   ]
  },
  {
   "cell_type": "code",
   "execution_count": null,
   "id": "bc36c036",
   "metadata": {},
   "outputs": [],
   "source": [
    "# Find, load, and convert image from textbook data\n",
    "textbook_image_files_path = '/Textbook Code and Data/DATA_PYTHON/DATA/'\n",
    "dog_grayscale = io.imread('..' + textbook_image_files_path + 'dog.jpg', as_gray=True)\n",
    "print(type(dog_grayscale))"
   ]
  },
  {
   "cell_type": "code",
   "execution_count": null,
   "id": "3f06fc9c",
   "metadata": {},
   "outputs": [],
   "source": [
    "# We need a tool that converts images into grayscale (i.e. all pixel values in [0, 1])\n",
    "def gray_scale_convert(image):\n",
    "    rescaled_image = np.zeros((image.shape[0], image.shape[1]))\n",
    "    rescaled_image[:, :] = image\n",
    "    rescaled_image -= np.min(rescaled_image)\n",
    "    rescaled_image /= np.max(rescaled_image)\n",
    "    return rescaled_image"
   ]
  },
  {
   "cell_type": "code",
   "execution_count": null,
   "id": "ad652ffe",
   "metadata": {},
   "outputs": [],
   "source": [
    "# We would like to easily comapre different images to one another after we do various things to them.  \n",
    "def image_comparison(original_image, reduced_image):\n",
    "    gscale_reduced_image = gray_scale_convert(reduced_image) # note, we need to make sure skinny_puppy is grayscale\n",
    "    difference = np.abs( original_image - gscale_reduced_image )\n",
    "\n",
    "    fig, axes = plt.subplots(1, 3, figsize=(10, 5))\n",
    "    ax = axes.ravel()\n",
    "    ax[0].imshow(original_image, cmap=plt.cm.gray)\n",
    "    ax[0].set_title(\"Original\")\n",
    "    ax[1].imshow(gscale_reduced_image, cmap=plt.cm.gray) \n",
    "    ax[1].set_title(\"Reduced\")\n",
    "    ax[2].imshow(difference, cmap=plt.cm.gray)\n",
    "    ax[2].set_title(\"Difference\")\n",
    "    fig.tight_layout()"
   ]
  },
  {
   "cell_type": "code",
   "execution_count": null,
   "id": "ffddaad4",
   "metadata": {},
   "outputs": [],
   "source": [
    "# PUPPY TIME!\n",
    "plt.imshow(dog_grayscale, cmap=plt.cm.gray)"
   ]
  },
  {
   "cell_type": "code",
   "execution_count": null,
   "id": "fdd93389",
   "metadata": {},
   "outputs": [],
   "source": [
    "# Compute the SVD of the grayscale dog image\n",
    "u, s, vh = np.linalg.svd(dog_grayscale, full_matrices=False)"
   ]
  },
  {
   "cell_type": "code",
   "execution_count": null,
   "id": "c47324d5",
   "metadata": {},
   "outputs": [],
   "source": [
    "# Analyze singular values\n",
    "smax = s[0]\n",
    "s_log_scaled = np.ma.log10(s/smax)\n",
    "plt.plot(s_log_scaled, color='k')\n",
    "plt.ylabel(r\"$\\log_{10}(s/s_{0})$\")"
   ]
  },
  {
   "cell_type": "markdown",
   "id": "c7102b52",
   "metadata": {},
   "source": [
    "So looking at our rescaled singular values, we see that there is a precipitous drop off in magnitude after about the first 100 terms.  What if we only used these singular values and their affiliated vectors?  Doing this sort of thing in Python is really slick.  Watch..."
   ]
  },
  {
   "cell_type": "code",
   "execution_count": null,
   "id": "15deceee",
   "metadata": {},
   "outputs": [],
   "source": [
    "indskp = np.log10(s/smax) >= -2 # We only keep singular values that are 1/100 the magnitude of the largest.  \n",
    "skinny_puppy = u[:,indskp] @ np.diag( s[indskp] ) @ vh[indskp, :]"
   ]
  },
  {
   "cell_type": "markdown",
   "id": "fb1e4ceb",
   "metadata": {},
   "source": [
    "If we look at the ratio of how many singular values we kept to how many we started with, we get a sense of the percentage of information we keep when we reduce data this way.  To wit..."
   ]
  },
  {
   "cell_type": "code",
   "execution_count": null,
   "id": "2fea2b08",
   "metadata": {},
   "outputs": [],
   "source": [
    "compression_ratio = s[indskp].size/s.size\n",
    "print(\"The compression ratio is {0:1.2f}%\".format(compression_ratio*100.))"
   ]
  },
  {
   "cell_type": "markdown",
   "id": "0bab08ef",
   "metadata": {},
   "source": [
    "So by truncating those singular values which are 1/100 the size of the largest, we only keep 2.73% of our original singular values.  Let's see what that gets us."
   ]
  },
  {
   "cell_type": "code",
   "execution_count": null,
   "id": "9d5e054c",
   "metadata": {},
   "outputs": [],
   "source": [
    "# How much puppy do we have left? Let's plot the original and reduced figures as well as the difference side-by-side\n",
    "image_comparison(dog_grayscale, skinny_puppy)"
   ]
  },
  {
   "cell_type": "markdown",
   "id": "e4ce29f0",
   "metadata": {},
   "source": [
    "So we certainly can see some differences between the original and reduced images, but the difference is an issue of crispness.  The reduced image is still clearly our original puppy.  Now let's see what happens if we push this argument a little too far. "
   ]
  },
  {
   "cell_type": "code",
   "execution_count": null,
   "id": "23823325",
   "metadata": {},
   "outputs": [],
   "source": [
    "indskp = np.log10(s/smax) >= -1 # We only keep singular values that are 1/10 the magnitude of the largest.  \n",
    "really_skinny_puppy = u[:,indskp] @ np.diag( s[indskp] ) @ vh[indskp, :]\n",
    "compression_ratio = s[indskp].size/s.size\n",
    "print(\"The compression ratio is {0:1.2f}%\".format(compression_ratio*100.))"
   ]
  },
  {
   "cell_type": "code",
   "execution_count": null,
   "id": "30108406",
   "metadata": {},
   "outputs": [],
   "source": [
    "image_comparison(dog_grayscale, really_skinny_puppy)"
   ]
  },
  {
   "cell_type": "markdown",
   "id": "4f4799a2",
   "metadata": {},
   "source": [
    "Okay, by only taking .2% of our original image, our reduction really does make the dog disappear.  "
   ]
  },
  {
   "cell_type": "code",
   "execution_count": null,
   "id": "15f12147",
   "metadata": {},
   "outputs": [],
   "source": []
  }
 ],
 "metadata": {
  "kernelspec": {
   "display_name": "Python 3 (ipykernel)",
   "language": "python",
   "name": "python3"
  },
  "language_info": {
   "codemirror_mode": {
    "name": "ipython",
    "version": 3
   },
   "file_extension": ".py",
   "mimetype": "text/x-python",
   "name": "python",
   "nbconvert_exporter": "python",
   "pygments_lexer": "ipython3",
   "version": "3.9.7"
  }
 },
 "nbformat": 4,
 "nbformat_minor": 5
}
