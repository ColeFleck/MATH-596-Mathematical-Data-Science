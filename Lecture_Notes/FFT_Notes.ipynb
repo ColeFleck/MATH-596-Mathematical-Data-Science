{
 "cells": [
  {
   "cell_type": "code",
   "execution_count": null,
   "id": "2dfd3579",
   "metadata": {},
   "outputs": [],
   "source": [
    "from scipy.fft import fft, ifft, fftshift, fft2, ifft2\n",
    "import numpy as np\n",
    "import matplotlib.pyplot as plt\n",
    "from skimage import io\n",
    "\n",
    "%matplotlib inline "
   ]
  },
  {
   "cell_type": "code",
   "execution_count": null,
   "id": "fe962192",
   "metadata": {},
   "outputs": [],
   "source": [
    "# We need a tool that converts images into grayscale (i.e. all pixel values in [0, 1])\n",
    "def gray_scale_convert(image):\n",
    "    rescaled_image = np.zeros((image.shape[0], image.shape[1]))\n",
    "    rescaled_image[:, :] = image\n",
    "    rescaled_image -= np.min(rescaled_image)\n",
    "    rescaled_image /= np.max(rescaled_image)\n",
    "    return rescaled_image"
   ]
  },
  {
   "cell_type": "markdown",
   "id": "8bab6125",
   "metadata": {},
   "source": [
    "# Noisy Signals\n",
    "\n",
    "Just to get a sense of the power of the FFT, we look at the signal \n",
    "\n",
    "$$\n",
    "s(t) = \\cos(2t) + \\sin(3t) + \\epsilon(t),  \\epsilon(t) \\sim \\mathcal{N}(0, 1).\n",
    "$$"
   ]
  },
  {
   "cell_type": "code",
   "execution_count": null,
   "id": "207f409a",
   "metadata": {},
   "outputs": [],
   "source": [
    "Npts = int(2**8)\n",
    "times = np.linspace(0., 20.*np.pi, Npts)\n",
    "rvals = np.random.randn(Npts)\n",
    "sfun = lambda t: np.cos(2.*t) + np.sin(3.*t)\n",
    "svals = sfun(times) + rvals\n",
    "\n",
    "plt.plot(times, svals, 'k')\n",
    "#plt.plot(times, sfun(times), 'r--')"
   ]
  },
  {
   "cell_type": "code",
   "execution_count": null,
   "id": "195de3f6",
   "metadata": {},
   "outputs": [],
   "source": [
    "sfreq = fft(svals)\n",
    "sfreq_plot = np.abs(fftshift(sfreq[:]))/np.sqrt(Npts)\n",
    "kvals = np.arange(0, int(Npts/2)) * (2.*np.pi)/(20.*np.pi)\n",
    "\n",
    "fig, axes = plt.subplots(1, 2, figsize=(10, 4))\n",
    "ax = axes.ravel()\n",
    "ax[0].plot(times, svals, 'k')\n",
    "ax[0].set_xlabel(r\"$t$\")\n",
    "ax[0].set_ylabel(r\"$s(t)$\")\n",
    "\n",
    "ax[1].plot(kvals, sfreq_plot[int(Npts/2):], 'k')\n",
    "ax[1].set_xlabel(r\"$k$\")\n",
    "ax[1].set_ylabel(r\"$|\\hat{s}(k)|$\");\n"
   ]
  },
  {
   "cell_type": "markdown",
   "id": "66e62e5d",
   "metadata": {},
   "source": [
    "So now, if we want to denoise, we use the same kind of threshholding to maximum arguments we used for the SVD.  This looks like:"
   ]
  },
  {
   "cell_type": "code",
   "execution_count": null,
   "id": "630c00c1",
   "metadata": {},
   "outputs": [],
   "source": [
    "sfmax = np.max(np.abs(sfreq))\n",
    "indskp = np.ma.log2(np.abs(sfreq)/sfmax) >= -1\n",
    "sfilter = np.zeros(sfreq.size, dtype=np.complex128)\n",
    "sfilter[indskp] = sfreq[indskp]\n",
    "sfilter_plot = fftshift(np.abs(sfilter))/np.sqrt(Npts)\n",
    "sdenoised = np.real(ifft(sfilter))\n",
    "\n",
    "fig, axes = plt.subplots(1, 2, figsize=(10, 4))\n",
    "ax = axes.ravel()\n",
    "ax[0].plot(times, sdenoised, 'k')\n",
    "#ax[0].plot(times, sfun(times), 'r--')\n",
    "ax[0].set_xlabel(r\"$t$\")\n",
    "ax[0].set_ylabel(r\"$s(t)$\")\n",
    "\n",
    "ax[1].plot(kvals, sfilter_plot[int(Npts/2):], 'k')\n",
    "ax[1].set_xlabel(r\"$k$\")\n",
    "ax[1].set_ylabel(r\"$|\\hat{s}(k)|$\");\n"
   ]
  },
  {
   "cell_type": "markdown",
   "id": "b6afc532",
   "metadata": {},
   "source": [
    "# Image Analysis"
   ]
  },
  {
   "cell_type": "markdown",
   "id": "68b63424",
   "metadata": {},
   "source": [
    "Now, what happens when we use the 2D FFT on Beans?  "
   ]
  },
  {
   "cell_type": "code",
   "execution_count": null,
   "id": "f5cd86d1",
   "metadata": {},
   "outputs": [],
   "source": [
    "# Find, load, and convert image from textbook data\n",
    "# Image is in Lecture_Notes folder \n",
    "dog_grayscale = io.imread('beans.jpg', as_gray=True)\n",
    "\n",
    "dog_freq = fft2(dog_grayscale)\n",
    "dog_freq_plot = np.log10(fftshift(np.abs(dog_freq)))"
   ]
  },
  {
   "cell_type": "code",
   "execution_count": null,
   "id": "1ab42890",
   "metadata": {},
   "outputs": [],
   "source": [
    "fig, axes = plt.subplots(1, 2, figsize=(10, 4))\n",
    "ax = axes.ravel()\n",
    "\n",
    "ax[0].imshow(dog_grayscale, cmap=plt.cm.gray)\n",
    "ax[1].matshow(dog_freq_plot)\n",
    "\n",
    "plt.tight_layout()"
   ]
  },
  {
   "cell_type": "markdown",
   "id": "4a47196e",
   "metadata": {},
   "source": [
    "So, there isn't really any clear interpretation of Beans in the FFT plot to the right.  Nevertheless, we can still do useful things with it.  To wit, we can look at, as you might have guessed, amplitude comparisons and only keep large Fourier coefficients.  "
   ]
  },
  {
   "cell_type": "code",
   "execution_count": null,
   "id": "37165d65",
   "metadata": {},
   "outputs": [],
   "source": [
    "max_freq = np.max(np.abs(dog_freq))\n",
    "indskp = np.ma.log10(np.abs(dog_freq)/max_freq) >= -3\n",
    "dog_filter = np.zeros((dog_freq.shape[0], dog_freq.shape[1]), dtype=np.complex128)\n",
    "dog_filter[indskp] = dog_freq[indskp]\n",
    "dog_reduced = gray_scale_convert(np.real(ifft2(dog_filter)))"
   ]
  },
  {
   "cell_type": "code",
   "execution_count": null,
   "id": "8ba5ec25",
   "metadata": {},
   "outputs": [],
   "source": [
    "fig, axes = plt.subplots(1, 2, figsize=(10, 4))\n",
    "ax = axes.ravel()\n",
    "\n",
    "ax[0].imshow(dog_reduced, cmap=plt.cm.gray)\n",
    "ax[1].imshow(dog_grayscale, cmap=plt.cm.gray)\n",
    "\n",
    "plt.tight_layout()"
   ]
  },
  {
   "cell_type": "markdown",
   "id": "afc6cc45",
   "metadata": {},
   "source": [
    "So with almost none of the affiliated Fourier spectra, we get a weirdly good recreation of Beans, but in a very different way than what we did with the SVD.  Let's see how the original and altered images look though through that lense.  "
   ]
  },
  {
   "cell_type": "code",
   "execution_count": null,
   "id": "0191cd91",
   "metadata": {},
   "outputs": [],
   "source": [
    "u, s, vh = np.linalg.svd(dog_grayscale)\n",
    "ur, sr, vhr = np.linalg.svd(dog_reduced)"
   ]
  },
  {
   "cell_type": "code",
   "execution_count": null,
   "id": "0fd6f3e1",
   "metadata": {},
   "outputs": [],
   "source": [
    "plt.plot(np.ma.log10(s/s[0]), color='k')\n",
    "plt.plot(np.ma.log10(sr/sr[0]), color='r', ls='--')"
   ]
  },
  {
   "cell_type": "markdown",
   "id": "81c7da47",
   "metadata": {},
   "source": [
    "So we see our FFT based approach is similar to chopping off dimensions in the SVD, though perhaps not quite as systematic in how we can describe the effect. "
   ]
  },
  {
   "cell_type": "markdown",
   "id": "6964ccf8",
   "metadata": {},
   "source": [
    "## FFT Theory\n",
    "\n",
    "For $f(t+T)=f(t)$ with $f(t) \\in L_{2}([0, T])$, again, we define the Fourier coefficient $\\hat{f}_{n}$ for $n\\in \\mathbb{Z}$ as \n",
    "\n",
    "$$\n",
    "\\hat{f}_{n} = \\left<f,\\hat{e}_{n}\\right> = \\frac{1}{\\sqrt{T}}\\int_{0}^{T}f(t) e^{-2\\pi i n t/T} dt.  \n",
    "$$\n",
    "\n",
    "With a modicum of theory, we can in turn write\n",
    "\n",
    "$$\n",
    "f(t) = \\sum_{n=-\\infty}^{\\infty}\\hat{f}_{n}\\hat{e}_{n}(t), \\hat{e}_{n}(t) = \\frac{1}{\\sqrt{T}}e^{-2\\pi i n t/T}.\n",
    "$$\n",
    "\n",
    "We can think of the transition from $f(t)$ to the infinte vector $\\left(\\hat{f}_{n}\\right)_{n=-\\infty}^{\\infty}$ as the _forward_ transform, and the process of summing the terms $\\hat{f}_{n}\\hat{e}_{n}(t)$ as the _inverse_ transform.  \n",
    "\n",
    "Now, as we've examined in lecture and the homework, a central issue for Fourier transforms is the rate of decay of $\\hat{f}_{n}$.  As we know, if we take \n",
    "\n",
    "$$\n",
    "f(t) = \\left\\{\\begin{array}{rl} 0 & 0 \\leq t \\leq \\pi \\\\ 1 & \\pi < t < 2\\pi \\end{array}\\right.\n",
    "$$\n",
    "\n",
    "then \n",
    "\n",
    "$$\n",
    "\\hat{f}_{n} = \\left\\{\\begin{array}{rl} \\frac{i}{n}\\sqrt{\\frac{2}{\\pi}} & n ~\\mbox{odd} \\\\ 0 & n ~\\mbox{even}\\end{array}\\right.\n",
    "$$\n",
    "\n",
    "So that slow rate of decay combined with the limited number of modes of the FFT makes for a tricky situation.  To see what I mean, let's compute.  "
   ]
  },
  {
   "cell_type": "code",
   "execution_count": null,
   "id": "c306d0cd",
   "metadata": {},
   "outputs": [],
   "source": [
    "def step_fun(t):\n",
    "    if 0 <= t and t <= np.pi:\n",
    "        return 0\n",
    "    else:\n",
    "        return 1\n",
    "    \n",
    "def interp_freq(t, freq):\n",
    "    Npts = freq.size\n",
    "    hlf = int(Npts/2)\n",
    "    tpi = 2.*np.pi\n",
    "    nvals = np.append(np.arange(0, hlf+1), np.arange(-hlf+1, 0))\n",
    "    phase = np.exp(nvals * 1j * t)\n",
    "    return np.real(np.sum(freq * phase))/Npts"
   ]
  },
  {
   "cell_type": "code",
   "execution_count": null,
   "id": "e519e44b",
   "metadata": {},
   "outputs": [],
   "source": [
    "Npts = int(2**8)\n",
    "tvals = np.linspace(0, 2.*np.pi, Npts)\n",
    "fvals = [step_fun(tval) for tval in tvals]\n",
    "ffreq = fft(fvals)\n",
    "ffreq_plot = fftshift(np.abs(ffreq))"
   ]
  },
  {
   "cell_type": "code",
   "execution_count": null,
   "id": "6f8387a5",
   "metadata": {},
   "outputs": [],
   "source": [
    "fig, axes = plt.subplots(1, 2, figsize=(10, 4))\n",
    "ax = axes.ravel()\n",
    "\n",
    "ax[0].plot(tvals, fvals)\n",
    "ax[1].plot(ffreq_plot[int(Npts/2):])\n",
    "\n",
    "plt.tight_layout()"
   ]
  },
  {
   "cell_type": "code",
   "execution_count": null,
   "id": "654f69d9",
   "metadata": {},
   "outputs": [],
   "source": [
    "tvalsfine = np.linspace(0, 2.*np.pi, 2*Npts)\n",
    "interp_step = [interp_freq(tval, ffreq) for tval in tvalsfine]"
   ]
  },
  {
   "cell_type": "code",
   "execution_count": null,
   "id": "85a9ff34",
   "metadata": {},
   "outputs": [],
   "source": [
    "plt.plot(interp_step)"
   ]
  },
  {
   "cell_type": "code",
   "execution_count": null,
   "id": "e1a89f9e",
   "metadata": {},
   "outputs": [],
   "source": []
  }
 ],
 "metadata": {
  "kernelspec": {
   "display_name": "Python 3 (ipykernel)",
   "language": "python",
   "name": "python3"
  },
  "language_info": {
   "codemirror_mode": {
    "name": "ipython",
    "version": 3
   },
   "file_extension": ".py",
   "mimetype": "text/x-python",
   "name": "python",
   "nbconvert_exporter": "python",
   "pygments_lexer": "ipython3",
   "version": "3.10.10"
  }
 },
 "nbformat": 4,
 "nbformat_minor": 5
}
