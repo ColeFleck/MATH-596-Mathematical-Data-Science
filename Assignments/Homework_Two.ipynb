{
 "cells": [
  {
   "cell_type": "markdown",
   "metadata": {
    "id": "Ycb8RW0KjX7f"
   },
   "source": [
    "# Link to Drive, Set File Paths"
   ]
  },
  {
   "cell_type": "code",
   "execution_count": null,
   "metadata": {
    "colab": {
     "base_uri": "https://localhost:8080/"
    },
    "executionInfo": {
     "elapsed": 21840,
     "status": "ok",
     "timestamp": 1694638692328,
     "user": {
      "displayName": "Christopher Curtis",
      "userId": "13150122405137014953"
     },
     "user_tz": 420
    },
    "id": "MlKsZIpOcH_0",
    "outputId": "11aee2c8-5535-4489-e0ea-72e0ef6840a0"
   },
   "outputs": [],
   "source": [
    "import os\n",
    "base_directory = os.getcwd() # store your base directory for easy reference\n",
    "assignment_two_data = base_directory + '/Homework_Two_Data/'"
   ]
  },
  {
   "cell_type": "code",
   "execution_count": null,
   "metadata": {
    "executionInfo": {
     "elapsed": 521,
     "status": "ok",
     "timestamp": 1694638695941,
     "user": {
      "displayName": "Christopher Curtis",
      "userId": "13150122405137014953"
     },
     "user_tz": 420
    },
    "id": "0HcpnWj7dChe"
   },
   "outputs": [],
   "source": [
    "# Load core libraries and utilities\n",
    "import numpy as np\n",
    "import matplotlib.pyplot as plt\n",
    "from matplotlib import colors\n",
    "from skimage import io\n",
    "\n",
    "# Jupyter notebook \"magic\"\n",
    "%matplotlib inline"
   ]
  },
  {
   "cell_type": "markdown",
   "metadata": {
    "id": "IeOwTipPjNoc"
   },
   "source": [
    "# Helper Functions"
   ]
  },
  {
   "cell_type": "code",
   "execution_count": null,
   "metadata": {
    "executionInfo": {
     "elapsed": 134,
     "status": "ok",
     "timestamp": 1694638700659,
     "user": {
      "displayName": "Christopher Curtis",
      "userId": "13150122405137014953"
     },
     "user_tz": 420
    },
    "id": "0tYyol01e6oE"
   },
   "outputs": [],
   "source": [
    "# We need to be able to pass in a directory and build an image list\n",
    "def file_builder(directory):\n",
    "    image_list = []\n",
    "    # iterate over files in\n",
    "    # that directory\n",
    "    for root, dirs, files in os.walk(directory):\n",
    "        for filename in files:\n",
    "            if filename != \"Readme\":\n",
    "                image_list.append( io.imread(os.path.join(root, filename), as_gray=True) )\n",
    "    return image_list"
   ]
  },
  {
   "cell_type": "code",
   "execution_count": null,
   "metadata": {
    "executionInfo": {
     "elapsed": 180,
     "status": "ok",
     "timestamp": 1694638727495,
     "user": {
      "displayName": "Christopher Curtis",
      "userId": "13150122405137014953"
     },
     "user_tz": 420
    },
    "id": "Lh28zfktVta0"
   },
   "outputs": [],
   "source": [
    "# We need a tool that converts images into grayscale (i.e. all pixel values in [0, 1])\n",
    "def gray_scale_convert(image):\n",
    "    rescaled_image = np.zeros((image.shape[0], image.shape[1]))\n",
    "    rescaled_image[:, :] = image\n",
    "    rescaled_image -= np.min(rescaled_image)\n",
    "    rescaled_image /= np.max(rescaled_image)\n",
    "    return rescaled_image"
   ]
  },
  {
   "cell_type": "markdown",
   "metadata": {
    "id": "THHJ13ipjSx5"
   },
   "source": [
    "# Problem Set"
   ]
  },
  {
   "cell_type": "code",
   "execution_count": null,
   "metadata": {
    "executionInfo": {
     "elapsed": 113916,
     "status": "ok",
     "timestamp": 1694638843503,
     "user": {
      "displayName": "Christopher Curtis",
      "userId": "13150122405137014953"
     },
     "user_tz": 420
    },
    "id": "XuJqB7bBcJn5"
   },
   "outputs": [],
   "source": [
    "# Build image lists for cropped and uncropped images\n",
    "cropped_directory = assignment_two_data + '/CroppedYale/'\n",
    "uncropped_directory = assignment_two_data + '/yalefaces_uncropped/'\n",
    "\n",
    "cropped_image_list = file_builder(cropped_directory)\n",
    "#uncroppod_image_list = file_builder(uncropped_directory)"
   ]
  },
  {
   "cell_type": "markdown",
   "metadata": {
    "id": "aqrKNkw1fmx-"
   },
   "source": [
    "So, using the code so far, you have built lists of grayscale matrices which encode a variety of images.  Now we want to \"learn\" from these images using the SVD.  "
   ]
  },
  {
   "cell_type": "markdown",
   "metadata": {
    "id": "UFJNr8r6fzt9"
   },
   "source": [
    "**Problem 1**: Following the model below, build a matrix from the uncropped images each of whose columns is a flattened grayscale image.  "
   ]
  },
  {
   "cell_type": "code",
   "execution_count": null,
   "metadata": {
    "executionInfo": {
     "elapsed": 357,
     "status": "ok",
     "timestamp": 1694638849977,
     "user": {
      "displayName": "Christopher Curtis",
      "userId": "13150122405137014953"
     },
     "user_tz": 420
    },
    "id": "tQ9rAhY8dx49"
   },
   "outputs": [],
   "source": [
    "# Problem 1 Model\n",
    "num_crp_images = len(cropped_image_list)\n",
    "crp_row, crp_col = np.shape(cropped_image_list[0])\n",
    "crp_image_mat = np.zeros((crp_row*crp_col, num_crp_images), dtype=np.float64)\n",
    "for cnt, image in enumerate(cropped_image_list):\n",
    "    crp_image_mat[:, cnt] = image.flatten()"
   ]
  },
  {
   "cell_type": "code",
   "execution_count": null,
   "metadata": {
    "executionInfo": {
     "elapsed": 162,
     "status": "ok",
     "timestamp": 1694638851483,
     "user": {
      "displayName": "Christopher Curtis",
      "userId": "13150122405137014953"
     },
     "user_tz": 420
    },
    "id": "DRLOFiIFiDZb"
   },
   "outputs": [],
   "source": [
    "# Problem 1 answer goes here.\n"
   ]
  },
  {
   "cell_type": "markdown",
   "metadata": {
    "id": "E8CPwW0AkibR"
   },
   "source": [
    "**Problem 2**: Following the discussion in lecture, take out the mean/average of the columns in each image matrix. Note, you'll need to look up how to use `np.mean()`  and `np.tile()` to make this efficient.  "
   ]
  },
  {
   "cell_type": "code",
   "execution_count": null,
   "metadata": {
    "executionInfo": {
     "elapsed": 365,
     "status": "ok",
     "timestamp": 1694638854655,
     "user": {
      "displayName": "Christopher Curtis",
      "userId": "13150122405137014953"
     },
     "user_tz": 420
    },
    "id": "jzCHQKaw1dpg"
   },
   "outputs": [],
   "source": [
    "crp_avg = np.mean(crp_image_mat, axis=1)\n",
    "# Note, to turn crp_avg into a column vector use: crp_avg.reshape(-1, 1)\n",
    "crp_image_mat -= np.tile(crp_avg.reshape(-1,1), (1, num_crp_images))"
   ]
  },
  {
   "cell_type": "markdown",
   "metadata": {
    "id": "YMScKegt4NBO"
   },
   "source": [
    "**Problem 3**: Using `.reshape()`, plot the average face for both the cropped and uncropped images.  "
   ]
  },
  {
   "cell_type": "code",
   "execution_count": null,
   "metadata": {
    "executionInfo": {
     "elapsed": 166,
     "status": "ok",
     "timestamp": 1694638856874,
     "user": {
      "displayName": "Christopher Curtis",
      "userId": "13150122405137014953"
     },
     "user_tz": 420
    },
    "id": "6GUW7YHJ4VHs"
   },
   "outputs": [],
   "source": [
    "# Problem 3 code goes here."
   ]
  },
  {
   "cell_type": "markdown",
   "metadata": {
    "id": "KEKOXBdOiWlv"
   },
   "source": [
    "**Problem 4**: For both the zero-average cropped and uncropped image matrices, find the SVD of each, rescale and take log plots of the singular values, and then characterize what percentage of values are within 1/10, 1/100, and 1/1000 of the size of the largest singular value.   "
   ]
  },
  {
   "cell_type": "code",
   "execution_count": null,
   "metadata": {
    "executionInfo": {
     "elapsed": 6064,
     "status": "ok",
     "timestamp": 1694638868369,
     "user": {
      "displayName": "Christopher Curtis",
      "userId": "13150122405137014953"
     },
     "user_tz": 420
    },
    "id": "5jldbEjehqGF"
   },
   "outputs": [],
   "source": [
    "u_crp, s_crp, vh_crp = np.linalg.svd(crp_image_mat, full_matrices=False)\n",
    "# Problem 4 code goes here"
   ]
  },
  {
   "cell_type": "markdown",
   "metadata": {
    "id": "C1K1VFJQRlcP"
   },
   "source": [
    "Now, how can we start to analyze our image collections using the SVD/PCA?  We're going to take a more naive approach than the book does to answer this.  First, plot the first three columns of `u_crp` as images in grayscale.  Explain what you are finding.  "
   ]
  },
  {
   "cell_type": "code",
   "execution_count": null,
   "metadata": {},
   "outputs": [],
   "source": [
    "# Problem 4 code goes here "
   ]
  },
  {
   "cell_type": "markdown",
   "metadata": {},
   "source": [
    "Next, let's see how the various projections look across all of the images."
   ]
  },
  {
   "cell_type": "code",
   "execution_count": null,
   "metadata": {
    "colab": {
     "base_uri": "https://localhost:8080/",
     "height": 298
    },
    "executionInfo": {
     "elapsed": 2953,
     "status": "ok",
     "timestamp": 1694638874473,
     "user": {
      "displayName": "Christopher Curtis",
      "userId": "13150122405137014953"
     },
     "user_tz": 420
    },
    "id": "1XXPYd47h5My",
    "outputId": "f9e80af6-76c2-4755-efb2-06a986048526"
   },
   "outputs": [],
   "source": [
    "num_modes = 14 # why did I choose 14 here?\n",
    "pca_proj_crp = u_crp[:, :num_modes].T @ crp_image_mat\n",
    "\n",
    "fig, axes = plt.subplots(2, 7, figsize=(20, 10))\n",
    "ax = axes.ravel()\n",
    "for jj in range(num_modes):\n",
    "    ax[jj].plot(pca_proj_crp[jj, :])\n",
    "    ax[jj].set_title(f\"Mode {jj}\")\n",
    "plt.tight_layout()"
   ]
  },
  {
   "cell_type": "markdown",
   "metadata": {},
   "source": [
    "So since we're trying to take a stab at \"clustering\" our data, we might also want to look at the same plots but now as histograms.  "
   ]
  },
  {
   "cell_type": "code",
   "execution_count": null,
   "metadata": {
    "colab": {
     "base_uri": "https://localhost:8080/",
     "height": 298
    },
    "executionInfo": {
     "elapsed": 4768,
     "status": "ok",
     "timestamp": 1694639140898,
     "user": {
      "displayName": "Christopher Curtis",
      "userId": "13150122405137014953"
     },
     "user_tz": 420
    },
    "id": "LwShJUAVWUFZ",
    "outputId": "3a1ed34a-654a-4df6-e0e3-63a7094bd3ca"
   },
   "outputs": [],
   "source": [
    "fig, axes = plt.subplots(2, 7, figsize=(20, 5))\n",
    "ax = axes.ravel()\n",
    "num_bins = 15\n",
    "for jj in range(num_modes):\n",
    "  ax[jj].hist(pca_proj_crp[jj, :], bins=num_bins)\n",
    "  ax[jj].set_title(f\"Mode {jj}\")\n",
    "plt.tight_layout()"
   ]
  },
  {
   "cell_type": "markdown",
   "metadata": {
    "id": "1O0zLPQeTv0g"
   },
   "source": [
    "**Problem 5** From the mode plots above, which modes do you think are the most meaningful?  To help you answer this, think about which plots might help you label images.  To do this, you need strong contrasts in the plots.  For example, how would you compare Mode 3 to Mode 13?  Which gives you more insight into underlying features of the image dataset?\n",
    "\n",
    "**Problem 6** (Graduate/Extra Credit): The above is for cropped images.  Plot equivalent results for the uncropped images.  "
   ]
  },
  {
   "cell_type": "markdown",
   "metadata": {
    "id": "E8TQR-9wUej3"
   },
   "source": [
    "**Problem 7**: Now, for the cropped image set, choose the 3 most interesting modes and plot them against one another using the code below.  What else can you infer by looking at this plot?  Note, you might want to try a few different choices here.  Maybe even plot some 'bad' choices just so you have some points of comparison here.  "
   ]
  },
  {
   "cell_type": "code",
   "execution_count": null,
   "metadata": {
    "id": "ySRBcfCr3gbc"
   },
   "outputs": [],
   "source": [
    "comb_list = [[, , ], [, , ]] # add your particular choices here\n",
    "\n",
    "fig = plt.figure(figsize=(10, 5))\n",
    "for jj in range(len(comb_list)):\n",
    "  x = pca_proj_crp[comb_list[jj][0], :]\n",
    "  y = pca_proj_crp[comb_list[jj][1], :]\n",
    "  z = pca_proj_crp[comb_list[jj][2], :]\n",
    "  ax = fig.add_subplot(1, len(comb_list), jj+1, projection='3d') # you might need to adjust this depending on how many images you want to plot at once\n",
    "  ax.scatter(x, y, z, s=2.)\n",
    "  ax.set_title(f\"Modes: ({comb_list[jj][0]}, {comb_list[jj][1]}, {comb_list[jj][2]})\")\n",
    "\n",
    "plt.tight_layout()"
   ]
  },
  {
   "cell_type": "markdown",
   "metadata": {
    "id": "VyjLl5aAWNbs"
   },
   "source": []
  },
  {
   "cell_type": "markdown",
   "metadata": {
    "id": "Pu7z1rGRWOoz"
   },
   "source": [
    "**Problem 8** (Graduate/Extra Credit): Repeat the above analysis for the uncropped image set.  What differences do you see relative to the cropped image set?  How might you explain that?  "
   ]
  },
  {
   "cell_type": "code",
   "execution_count": null,
   "metadata": {
    "id": "TIXVctUeWXzn"
   },
   "outputs": [],
   "source": []
  }
 ],
 "metadata": {
  "colab": {
   "authorship_tag": "ABX9TyMpH245pDHXUoBy7TRp0GhD",
   "provenance": []
  },
  "kernelspec": {
   "display_name": "Python 3 (ipykernel)",
   "language": "python",
   "name": "python3"
  },
  "language_info": {
   "codemirror_mode": {
    "name": "ipython",
    "version": 3
   },
   "file_extension": ".py",
   "mimetype": "text/x-python",
   "name": "python",
   "nbconvert_exporter": "python",
   "pygments_lexer": "ipython3",
   "version": "3.12.4"
  }
 },
 "nbformat": 4,
 "nbformat_minor": 1
}
