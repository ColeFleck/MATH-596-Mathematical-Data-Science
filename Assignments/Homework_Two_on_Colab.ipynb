{
 "cells": [
  {
   "cell_type": "markdown",
   "metadata": {
    "id": "Ycb8RW0KjX7f"
   },
   "source": [
    "# Link to Drive, Set File Paths"
   ]
  },
  {
   "cell_type": "code",
   "execution_count": null,
   "metadata": {
    "id": "MlKsZIpOcH_0"
   },
   "outputs": [],
   "source": [
    "from google.colab import drive\n",
    "drive.mount('/content/drive', force_remount=True)\n",
    "\n",
    "import os\n",
    "os.chdir('/content/drive/My Drive/MATH-596-Mathematical-Data-Science-Git-Clone') # or whatever you choose to name your 596 folder you make pulls from Git into\n",
    "base_directory = os.getcwd() # store your base directory for easy reference\n",
    "\n",
    "lecture_notes_directory = base_directory + '/Lecture_Notes/'\n",
    "textbook_image_directory = base_directory + '/Textbook Code and Data/DATA_PYTHON/DATA/'\n",
    "assignments_directory = base_directory + '/Assignments/'\n",
    "assignment_two_data = assignments_directory + '/Homework_Two_Data/'"
   ]
  },
  {
   "cell_type": "code",
   "execution_count": null,
   "metadata": {
    "id": "0HcpnWj7dChe"
   },
   "outputs": [],
   "source": [
    "# Load core libraries and utilities\n",
    "import numpy as np\n",
    "import matplotlib.pyplot as plt\n",
    "from matplotlib import colors\n",
    "from skimage import io\n",
    "\n",
    "# Jupyter notebook \"magic\"\n",
    "%matplotlib inline"
   ]
  },
  {
   "cell_type": "markdown",
   "metadata": {
    "id": "IeOwTipPjNoc"
   },
   "source": [
    "# Helper Functions"
   ]
  },
  {
   "cell_type": "code",
   "execution_count": null,
   "metadata": {
    "id": "0tYyol01e6oE"
   },
   "outputs": [],
   "source": [
    "# We need to be able to pass in a directory and build an image list\n",
    "def file_builder(directory):\n",
    "  image_list = []\n",
    "  # iterate over files in\n",
    "  # that directory\n",
    "  for root, dirs, files in os.walk(directory):\n",
    "    for filename in files:\n",
    "      if filename != \"Readme\":\n",
    "        image_list.append( io.imread(os.path.join(root, filename), as_gray=True) )\n",
    "  return image_list"
   ]
  },
  {
   "cell_type": "markdown",
   "metadata": {
    "id": "THHJ13ipjSx5"
   },
   "source": [
    "# Problem Set"
   ]
  },
  {
   "cell_type": "code",
   "execution_count": null,
   "metadata": {
    "id": "XuJqB7bBcJn5"
   },
   "outputs": [],
   "source": [
    "# Build image lists for cropped and uncropped images\n",
    "cropped_directory = assignment_two_data + '/CroppedYale/'\n",
    "uncropped_directory = assignment_two_data + '/yalefaces_uncropped/'\n",
    "\n",
    "# Building these lists could take a few minutes.  Go grab a cup of coffee (or equivalent) while you wait :)\n",
    "cropped_image_list = file_builder(cropped_directory)\n",
    "uncroppod_image_list = file_builder(uncropped_directory)"
   ]
  },
  {
   "cell_type": "markdown",
   "metadata": {
    "id": "aqrKNkw1fmx-"
   },
   "source": [
    "So, using the code so far, you have built lists of grayscale matrices which encode a variety of images.  Now we want to \"learn\" from these images using the SVD.  "
   ]
  },
  {
   "cell_type": "markdown",
   "metadata": {
    "id": "UFJNr8r6fzt9"
   },
   "source": [
    "**Problem 1**: Following the model below, build a matrix from the uncropped images each of whose columns is a flattened grayscale image.  "
   ]
  },
  {
   "cell_type": "code",
   "execution_count": null,
   "metadata": {
    "id": "tQ9rAhY8dx49"
   },
   "outputs": [],
   "source": [
    "# Problem 1 Model\n",
    "num_crp_images = len(cropped_image_list)\n",
    "crp_row, crp_col = np.shape(cropped_image_list[0])\n",
    "crp_image_mat = np.zeros((crp_row*crp_col, num_crp_images), dtype=np.float64)\n",
    "for cnt, image in enumerate(cropped_image_list):\n",
    "  crp_image_mat[:, cnt] = image.flatten()"
   ]
  },
  {
   "cell_type": "code",
   "execution_count": null,
   "metadata": {
    "id": "DRLOFiIFiDZb"
   },
   "outputs": [],
   "source": [
    "# Problem 1 answer goes here.\n"
   ]
  },
  {
   "cell_type": "markdown",
   "metadata": {
    "id": "E8CPwW0AkibR"
   },
   "source": [
    "**Problem 2**: Following the discussion in Section 1.5 of the book, take out the mean/average of the columns in each image matrix. Note, you'll need to look up how to use `np.mean()`  and `np.tile()` to make this efficient.  "
   ]
  },
  {
   "cell_type": "code",
   "execution_count": null,
   "metadata": {
    "id": "jzCHQKaw1dpg"
   },
   "outputs": [],
   "source": [
    "crp_avg = np.mean(crp_image_mat, axis=1)\n",
    "# Note, to turn crp_avg into a column vector use: crp_avg.reshape(-1, 1)\n",
    "crp_image_mat -= np.tile(crp_avg.reshape(-1,1), (1, num_crp_images))"
   ]
  },
  {
   "cell_type": "markdown",
   "metadata": {
    "id": "YMScKegt4NBO"
   },
   "source": [
    "**Problem 3**: Using `.reshape()`, plot the average face for both the cropped and uncropped images.  "
   ]
  },
  {
   "cell_type": "code",
   "execution_count": null,
   "metadata": {
    "id": "6GUW7YHJ4VHs"
   },
   "outputs": [],
   "source": [
    "# Problem 3 code goes here."
   ]
  },
  {
   "cell_type": "markdown",
   "metadata": {
    "id": "KEKOXBdOiWlv"
   },
   "source": [
    "**Problem 4**: For both the zero-average cropped and uncropped image matrices, find the SVD of each, rescale and take log plots of the singular values, and then characterize what percentage of values are within 1/10, 1/100, and 1/1000 of the size of the largest singular value.   "
   ]
  },
  {
   "cell_type": "code",
   "execution_count": null,
   "metadata": {
    "id": "5jldbEjehqGF"
   },
   "outputs": [],
   "source": [
    "u_crp, s_crp, vh_crp = np.linalg.svd(crp_image_mat, full_matrices=False)\n",
    "# add code here"
   ]
  },
  {
   "cell_type": "markdown",
   "metadata": {
    "id": "C1K1VFJQRlcP"
   },
   "source": [
    "Now, how can we start to analyze our image collections using the SVD/PCA?  We're going to take a more naive approach than the book does to answer this.  First, let's see how the various projections look across all of the images."
   ]
  },
  {
   "cell_type": "code",
   "execution_count": null,
   "metadata": {
    "id": "1XXPYd47h5My"
   },
   "outputs": [],
   "source": [
    "num_modes = 14 # why did I choose 14 here?\n",
    "pca_proj_crp = u_crp[:, :num_modes].T @ crp_image_mat\n",
    "fig, axes = plt.subplots(2, 7, figsize=(20, 5))\n",
    "ax = axes.ravel()\n",
    "for jj in range(num_modes):\n",
    "  ax[jj].plot(pca_proj_crp[jj, :])\n",
    "  ax[jj].set_title(f\"Mode {jj}\")\n",
    "plt.tight_layout()"
   ]
  },
  {
   "cell_type": "markdown",
   "metadata": {
    "id": "1O0zLPQeTv0g"
   },
   "source": [
    "**Problem 5** From the mode plots above, which modes do you think are the most meaningful?  To help you answer this, think about which plots might help you label images.  To do this, you need strong contrasts in the plots.  For example, how would you compare Mode 3 to Mode 13?  Which gives you more insight into underlying features of the image dataset?\n",
    "\n",
    "**Problem 6**: The above is for cropped images.  Plot equivalent results for the uncropped images.  "
   ]
  },
  {
   "cell_type": "markdown",
   "metadata": {
    "id": "E8TQR-9wUej3"
   },
   "source": [
    "**Problem 7**: Now, for the cropped image set, choose the 3 most interesting modes and plot them against one another using the code below.  What else can you infer by looking at this plot?  Note, you might want to try a few different choices here.  Maybe even plot some 'bad' choices just so you have some points of comparison here.  "
   ]
  },
  {
   "cell_type": "code",
   "execution_count": null,
   "metadata": {
    "id": "ySRBcfCr3gbc"
   },
   "outputs": [],
   "source": [
    "comb_list = [[, , ], [, , ]] # add your particular choices here\n",
    "\n",
    "fig = plt.figure(figsize=(10, 5))\n",
    "for jj in range(len(comb_list)):\n",
    "  x = pca_proj_crp[comb_list[jj][0], :]\n",
    "  y = pca_proj_crp[comb_list[jj][1], :]\n",
    "  z = pca_proj_crp[comb_list[jj][2], :]\n",
    "  ax = fig.add_subplot(1, len(comb_list), jj+1, projection='3d') # you might need to adjust this depending on how many images you want to plot at once\n",
    "  ax.scatter(x, y, z, s=2.)\n",
    "  ax.set_title(f\"Modes: ({comb_list[jj][0]}, {comb_list[jj][1]}, {comb_list[jj][2]})\")\n",
    "\n",
    "plt.tight_layout()"
   ]
  },
  {
   "cell_type": "markdown",
   "metadata": {
    "id": "VyjLl5aAWNbs"
   },
   "source": []
  },
  {
   "cell_type": "markdown",
   "metadata": {
    "id": "Pu7z1rGRWOoz"
   },
   "source": [
    "**Problem 8** (Graduate Level/Extra Credit): Repeat the above analysis for the uncropped image set.  What differences do you see relative to the cropped image set?  How might you explain that?  "
   ]
  },
  {
   "cell_type": "code",
   "execution_count": null,
   "metadata": {
    "id": "TIXVctUeWXzn"
   },
   "outputs": [],
   "source": []
  }
 ],
 "metadata": {
  "colab": {
   "authorship_tag": "ABX9TyPOHNWdf++210jxZ+/Sxs0W",
   "provenance": []
  },
  "kernelspec": {
   "display_name": "Python 3 (ipykernel)",
   "language": "python",
   "name": "python3"
  },
  "language_info": {
   "codemirror_mode": {
    "name": "ipython",
    "version": 3
   },
   "file_extension": ".py",
   "mimetype": "text/x-python",
   "name": "python",
   "nbconvert_exporter": "python",
   "pygments_lexer": "ipython3",
   "version": "3.10.10"
  }
 },
 "nbformat": 4,
 "nbformat_minor": 1
}
