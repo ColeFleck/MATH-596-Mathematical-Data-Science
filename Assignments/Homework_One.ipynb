{
 "cells": [
  {
   "cell_type": "code",
   "execution_count": null,
   "metadata": {},
   "outputs": [],
   "source": [
    "import numpy as np\n",
    "import matplotlib.pyplot as plt\n",
    "%matplotlib inline"
   ]
  },
  {
   "cell_type": "markdown",
   "metadata": {},
   "source": [
    "## Homework One: Due Friday, 9/5/25 by 11:59 PM in your Google Drive Folder."
   ]
  },
  {
   "cell_type": "markdown",
   "metadata": {},
   "source": [
    "**Problem 1**: For a $n\\times n$ unitary matrix $U$, so that $U^{-1}=U^{\\dagger}$ show that \n",
    "\n",
    "$$\n",
    "\\left|\\left|U{\\bf x}\\right|\\right| = \\left|\\left|{\\bf x}\\right|\\right|, ~ {\\bf x}\\in \\mathbb{C}^{n}\n",
    "$$\n",
    "\n",
    "Please explain in words what this means.  "
   ]
  },
  {
   "cell_type": "markdown",
   "metadata": {},
   "source": [
    "**Problem 2**: For the matrix $A:\\mathbb{R}^{2}\\rightarrow \\mathbb{R}^{3}$ where \n",
    "\n",
    "$$\n",
    "A = \\begin{pmatrix} 1 & 3 \\\\ 3 & 2 \\\\ 1 & 2 \\end{pmatrix}\n",
    "$$\n",
    "\n",
    "using `np.linalg.svd`, numerically compute its full and economy SVD.\n",
    "\n",
    "* Explain, as in literally show, the differences between the economy and full SVD.  \n",
    "* Using `np.linalg.norm` test the orthonomality of the orthogonal matrices in your SVD.  Comment on what you find.  "
   ]
  },
  {
   "cell_type": "markdown",
   "metadata": {},
   "source": [
    "**Problem 3**: For given real-valued, $n\\times n$ square matrix $A$ with SVD $A=U\\Sigma V^{T}$, if we order the singular values $\\sigma_{j}$ such that $\\sigma_{1}\\geq \\sigma_{2}\\geq \\cdots \\geq \\sigma_{n}$, then we define its *condition number*, say $c(A)$, to be \n",
    "\n",
    "$$\n",
    "c(A) = \\frac{\\sigma_{1}}{\\sigma_{n}}\n",
    "$$\n",
    "\n",
    "Note, if $A$ is not of full rank then $\\sigma_{n}=0$ and $c(A)=\\infty$.\n",
    "\n",
    "For $2 \\leq n \\leq 30$, using `np.random.randn` which generates random matrices using a normal distribution, find the average condition number as a function of $n$.  Plot your results and comment upon them.  Use the code skeleton below to get started.  "
   ]
  },
  {
   "cell_type": "code",
   "execution_count": null,
   "metadata": {},
   "outputs": [],
   "source": [
    "nvals = np.arange(2,31) # range of n-vals\n",
    "nsamples = # how many different random samples per dimension do we want to generate?  how do your results change as you change this number?\n",
    "average_condition_numbers = np.zeros(nvals.size)\n",
    "for cnt, nval in enumerate(nvals):\n",
    "    tot = 0\n",
    "    for jj in range(nsamples):\n",
    "        Amat = np.random.randn(nval, nval)\n",
    "        # find the svd of Amat\n",
    "        if : # don't include matrices that don't have full rank\n",
    "            # update your average here \n",
    "            # keep track of how many terms you're including in your average\n",
    "    average_condition_numbers[cnt] /= tot # make sure you compute an average\n",
    "\n",
    "plt.plot(average_condition_numbers)\n",
    "plt.xlabel(r\"$n$\")\n"
   ]
  },
  {
   "cell_type": "markdown",
   "metadata": {},
   "source": [
    "**Problem 4** (Graduate/Extra Credit): When using the economy SVD, only one of the products $U^{\\dagger}U$ and $UU^{\\dagger}$ is guaranteed to be the identity,\n",
    "while the other is a projection. Which is which and why?"
   ]
  },
  {
   "cell_type": "markdown",
   "metadata": {},
   "source": [
    "**Problem 5** (Graduate/Extra Credit): For $m\\times n$ complex valued matrix $A$, we define its *Frobenius norm* $\\left|\\left|A\\right|\\right|_{F}$ via the formula\n",
    "\n",
    "$$\n",
    "\\left|\\left|A\\right|\\right|^{2}_{F} = \\text{tr}\\left(A^{\\dagger}A \\right).\n",
    "$$\n",
    "\n",
    "Using the SVD $A = U\\Sigma V^{\\dagger}$, show that \n",
    "\n",
    "$$\n",
    "\\left|\\left|A\\right|\\right|^{2}_{F} = \\sum_{l=1}^{r}\\sigma_{l}^{2}, ~ r = \\text{rank}(A).\n",
    "$$"
   ]
  },
  {
   "cell_type": "markdown",
   "metadata": {},
   "source": []
  }
 ],
 "metadata": {
  "kernelspec": {
   "display_name": "math_596_fall_2024",
   "language": "python",
   "name": "python3"
  },
  "language_info": {
   "codemirror_mode": {
    "name": "ipython",
    "version": 3
   },
   "file_extension": ".py",
   "mimetype": "text/x-python",
   "name": "python",
   "nbconvert_exporter": "python",
   "pygments_lexer": "ipython3",
   "version": "3.12.4"
  }
 },
 "nbformat": 4,
 "nbformat_minor": 2
}
