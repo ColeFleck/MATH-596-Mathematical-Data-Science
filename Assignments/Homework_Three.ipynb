{
 "cells": [
  {
   "cell_type": "code",
   "execution_count": 1,
   "metadata": {},
   "outputs": [],
   "source": [
    "import os\n",
    "import pathlib\n",
    "\n",
    "base_directory = os.getcwd() # store your base directory for easy reference\n",
    "assignment_two_data = base_directory + '/Homework_Two_Data/'"
   ]
  },
  {
   "cell_type": "code",
   "execution_count": 2,
   "metadata": {},
   "outputs": [],
   "source": [
    "# Load core libraries and utilities\n",
    "import numpy as np\n",
    "import matplotlib.pyplot as plt\n",
    "from math_596_image_analysis_helper_functions import *\n",
    "from sklearn.cluster import KMeans\n",
    "\n",
    "# Jupyter notebook \"magic\"\n",
    "%matplotlib inline"
   ]
  },
  {
   "cell_type": "code",
   "execution_count": 3,
   "metadata": {},
   "outputs": [],
   "source": [
    "cropped_directory = assignment_two_data + '/CroppedYale/'\n",
    "cropped_image_list = file_builder(cropped_directory)\n",
    "\n",
    "# For Windows users, you might need this instead:\n",
    "# win_cropped_directory = pathlib.PureWindowsPath(cropped_directory)\n",
    "# cropped_image_list = file_builder(win_cropped_directory)"
   ]
  },
  {
   "cell_type": "code",
   "execution_count": 4,
   "metadata": {},
   "outputs": [],
   "source": [
    "# Compute projections of images along chosen modes.\n",
    "# This is how we eventually built our histograms in \n",
    "# Homework 2.  \n",
    "def cluster_data_maker(images_mat, mode_choices):\n",
    "    zero_avg, _ = zero_mean(images_mat)\n",
    "    u_modes, s_vals = mode_builder(zero_avg)\n",
    "    u_modes_red = mode_selector(u_modes, s_vals, 1.)\n",
    "\n",
    "    projected_images = u_modes_red.T @ zero_avg\n",
    "    cluster_data = []\n",
    "    for mode in mode_choices:\n",
    "        cluster_data.append(projected_images[mode, :])\n",
    "    cluster_data = np.array(cluster_data)\n",
    "    \n",
    "    return cluster_data\n",
    "\n",
    "# Generate initial labels for \"ground truth\" data set\n",
    "def mode_and_kmeans_label_maker(images_mat, num_clusters, mode_choices):\n",
    "    \n",
    "    cluster_data = cluster_data_maker(images_mat, mode_choices)\n",
    "    kmeans = KMeans(n_clusters=num_clusters, random_state=0, n_init=\"auto\").fit(cluster_data.T)\n",
    "    labels = kmeans.labels_\n",
    "    centers = kmeans.cluster_centers_\n",
    "    \n",
    "    return labels, centers, cluster_data  \n",
    "\n",
    "# When we relabel, we make sure to reuse old centers so we don't get random label assignment\n",
    "def mode_and_kmeans_relabel(cluster_data, num_clusters, prior_centers):\n",
    "    # Note how we use prior_centers to initialize our kmeans\n",
    "    kmeans = KMeans(n_clusters=num_clusters, init=prior_centers, n_init=\"auto\").fit(cluster_data.T)\n",
    "    labels = kmeans.labels_\n",
    "    centers = kmeans.cluster_centers_\n",
    "    \n",
    "    return labels, centers, cluster_data  \n"
   ]
  },
  {
   "cell_type": "code",
   "execution_count": 5,
   "metadata": {},
   "outputs": [],
   "source": [
    "# given partitions of data, labels, and number of clusters\n",
    "# return a list each element of which has the points in each\n",
    "# partition\n",
    "def cluster_separation(cluster_data, labels, num_clusters):\n",
    "    label_types = np.arange(num_clusters, dtype=int)\n",
    "    groups = []\n",
    "    for label_type in label_types:\n",
    "        next_group = labels == label_type\n",
    "        groups.append(cluster_data[:, next_group])\n",
    "    return groups\n",
    "\n",
    "# Plot the partitioned data.  This is set up to generate nrows*ncols plots using the add_subplot command.\n",
    "# cnt starts from 0, thus the cnt+1 in add_subplot(nrows, ncols, cnt+1).\n",
    "def cluster_plots(cluster_data, labels, centers, figure_handle, nrows, ncols, cnt):\n",
    "    num_dims = centers.shape[1]\n",
    "    num_clusters = centers.shape[0]\n",
    "\n",
    "    colors = ['r', 'k', 'b']\n",
    "    clusters = cluster_separation(cluster_data, labels, num_clusters)\n",
    "    \n",
    "    if num_dims == 2:\n",
    "        ax = figure_handle.add_subplot(nrows, ncols, cnt+1)        \n",
    "        ax.scatter(centers[:, 0], centers[:, 1], s=40., c='g', marker='x')\n",
    "        for jj in range(len(clusters)): \n",
    "            ax.scatter(clusters[jj][0, :], clusters[jj][1, :], s=2., c=colors[jj])\n",
    "    elif num_dims == 3:\n",
    "        ax = figure_handle.add_subplot(nrows, ncols, cnt+1, projection='3d')\n",
    "        ax.scatter(centers[:, 0], centers[:, 1], centers[:, 2], s=40., c='g', marker='x')\n",
    "        for jj in range(len(clusters)):\n",
    "            ax.scatter(clusters[jj][0, :], clusters[jj][1, :], clusters[jj][2,:], s=2., c=colors[jj])\n",
    "        \n",
    "    "
   ]
  },
  {
   "cell_type": "code",
   "execution_count": null,
   "metadata": {},
   "outputs": [],
   "source": [
    "def kfold_validator(cluster_data, labels, centers, num_samples, num_plots):\n",
    "    tot_images = cluster_data.shape[1]\n",
    "    tot_indices = np.arange(tot_images)\n",
    "    num_clusters = centers.shape[0]\n",
    "    rng = np.random.default_rng()\n",
    "\n",
    "    fig = plt.figure(figsize=(12, 8))\n",
    "    dif_vals = np.zeros(num_samples)   \n",
    "\n",
    "    # choose 90% of your original images \n",
    "    samp_images = int(np.floor(.9 * tot_images))\n",
    "    for jj in range(num_samples):\n",
    "        # shuffle indices and take 90%\n",
    "        rng.shuffle(tot_indices)\n",
    "        red_indices = np.sort(tot_indices[:samp_images])\n",
    "\n",
    "        # compute new kmeans clusters for 90% subset\n",
    "        ref_labels = labels[red_indices]\n",
    "        # note, we call relabel to control arbitrary label switching \n",
    "        red_labels, red_centers, red_cluster_data = mode_and_kmeans_relabel(cluster_data[:, red_indices], num_clusters, centers)     \n",
    "        # compute difference in labels \n",
    "        absdifs = np.abs( red_labels - ref_labels )\n",
    "\n",
    "        # if we have three clusters we have to be a little more clever \n",
    "        if num_clusters == 3:\n",
    "            dblinds = absdifs >= 1.\n",
    "            absdifs[dblinds] = 1\n",
    "\n",
    "        # compute relative differences  \n",
    "        dif_vals[jj] = np.sum(absdifs)/red_labels.size\n",
    "        \n",
    "        # plotting first num_plots of labeled data\n",
    "        # again: nrows * ncols = num_plots\n",
    "        my_nrows = 2 # this could be different.  up to you ;)\n",
    "        my_ncols = int(num_plots/my_nrows)\n",
    "        if jj < num_plots:\n",
    "            cluster_plots(red_cluster_data, red_labels, red_centers, figure_handle=fig, nrows=my_nrows, ncols=my_ncols, cnt=jj)\n",
    "                \n",
    "        fig.tight_layout()\n",
    "    return dif_vals"
   ]
  },
  {
   "cell_type": "code",
   "execution_count": 7,
   "metadata": {},
   "outputs": [
    {
     "name": "stdout",
     "output_type": "stream",
     "text": [
      "Total number of images is: 512\n",
      "Pixel counts are 192 by 168\n"
     ]
    }
   ],
   "source": [
    "# Same stuff from lecture notes:\n",
    "\n",
    "num_crp_images = len(cropped_image_list)\n",
    "crp_row, crp_col = np.shape(cropped_image_list[0])\n",
    "crp_image_mat = np.zeros((crp_row*crp_col, num_crp_images), dtype=np.float64)\n",
    "for cnt, image in enumerate(cropped_image_list):\n",
    "    crp_image_mat[:, cnt] = image.flatten()\n",
    "\n",
    "print(f\"Total number of images is: {num_crp_images}\")\n",
    "print(f\"Pixel counts are {crp_row} by {crp_col}\")"
   ]
  },
  {
   "cell_type": "markdown",
   "metadata": {},
   "source": [
    "**Problem 1**: Using the cropped image list from Homework 2, following our study of using k-means clusters on the scatter plot of `projected_images[0, :]` and `projected_images[1, :]` as shown in `Applications_of_the_SVD_and_Cluster_Analysis.ipynb`, we want to study how sensisitve the labels we used are.  To do this, using the code above: \n",
    "\n",
    "* Remove 10% of the total images and then label the remaining 90% of the images.  Compare your labels that you generated for the full data set to your new ones (relative of course to the common 90% of images you are working with) and compute the average difference as a percentage of the total number of images in your 90% set.  \n",
    "\n",
    "* Repeat this process `num_samps` more times by removing a different 10% of the data each time.  This should generate `num_samps` more average differences.  \n",
    "\n",
    "* Plot `num_plots` of your results and comment upon them.  How robust are the labels?  How does this change as you change `num_samps`?  How effective would you say that our labeling scheme is?  \n",
    "\n",
    "**Note**: All of the code above does everything you need it do already.  The question here and throughout the remainder of the assignment is what to call and when.  Likewise, how do your relative difference results vary with `num_samps`?  Why did you make the choice that you did for `num_plots`?"
   ]
  },
  {
   "cell_type": "code",
   "execution_count": 8,
   "metadata": {},
   "outputs": [],
   "source": [
    "# To build your 90%/10% splits in the data, we shuffle our images first \n",
    "# and then build our modes and find our labels for the full data set \n",
    "# relative to a fixed shuffle of the image indices.  You will use the\n",
    "# labels, centers, and cluster_data as your starting point to Problem 1.  \n",
    "\n",
    "rng = np.random.default_rng()\n",
    "image_indices = np.arange(num_crp_images)\n",
    "rng.shuffle(image_indices)\n",
    "crp_image_mat = crp_image_mat[:, image_indices]\n",
    "labels, centers, cluster_data = mode_and_kmeans_label_maker(crp_image_mat, 2, [0, 1])"
   ]
  },
  {
   "cell_type": "markdown",
   "metadata": {},
   "source": [
    "**Problem 2**: Repeat the above analysis using two kmeans labels and the modes `projected_images[0, :]`, `projected_images[1, :]`, and `projected_images[3, :]`.  How do your results change?  "
   ]
  },
  {
   "cell_type": "markdown",
   "metadata": {},
   "source": [
    "**Problem 3**: Repeat the above analysis using three kmeans labels and the modes `projected_images[0, :]`, `projected_images[1, :]`, and `projected_images[3, :]`.  How do your results change?  Which would you say is the best labeling scheme?  "
   ]
  }
 ],
 "metadata": {
  "kernelspec": {
   "display_name": "math_596_fall_2024",
   "language": "python",
   "name": "python3"
  },
  "language_info": {
   "codemirror_mode": {
    "name": "ipython",
    "version": 3
   },
   "file_extension": ".py",
   "mimetype": "text/x-python",
   "name": "python",
   "nbconvert_exporter": "python",
   "pygments_lexer": "ipython3",
   "version": "3.12.4"
  }
 },
 "nbformat": 4,
 "nbformat_minor": 2
}
