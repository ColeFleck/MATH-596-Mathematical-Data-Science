{
 "cells": [
  {
   "cell_type": "code",
   "execution_count": null,
   "metadata": {},
   "outputs": [],
   "source": [
    "import os\n",
    "import pathlib\n",
    "\n",
    "base_directory = os.getcwd() # store your base directory for easy reference\n",
    "assignment_two_data = base_directory + '/Homework_Two_Data/'"
   ]
  },
  {
   "cell_type": "code",
   "execution_count": null,
   "metadata": {},
   "outputs": [],
   "source": [
    "# Load core libraries and utilities\n",
    "import numpy as np\n",
    "import matplotlib.pyplot as plt\n",
    "from math_596_image_analysis_helper_functions import *\n",
    "from sklearn.cluster import KMeans\n",
    "\n",
    "# Jupyter notebook \"magic\"\n",
    "%matplotlib inline"
   ]
  },
  {
   "cell_type": "code",
   "execution_count": null,
   "metadata": {},
   "outputs": [],
   "source": [
    "cropped_directory = assignment_two_data + '/CroppedYale/'\n",
    "cropped_image_list = file_builder(cropped_directory)\n",
    "\n",
    "# For Windows users, you might need this instead:\n",
    "# win_cropped_directory = pathlib.PureWindowsPath(cropped_directory)\n",
    "# cropped_image_list = file_builder(win_cropped_directory)"
   ]
  },
  {
   "cell_type": "code",
   "execution_count": null,
   "metadata": {},
   "outputs": [],
   "source": [
    "def mode_and_kmeans_label_maker(images_mat):\n",
    "    zero_avg, _ = zero_mean(images_mat)\n",
    "    u_modes, s_vals = mode_builder(zero_avg)\n",
    "    u_modes_red = mode_selector(u_modes, s_vals, 1.)\n",
    "\n",
    "    projected_images = u_modes_red.T @ zero_avg\n",
    "    \n",
    "    cluster_data = np.array([projected_images[0, :], projected_images[1, :]])\n",
    "    print(cluster_data.shape)\n",
    "    \n",
    "    kmeans = KMeans(n_clusters=2, random_state=0, n_init=\"auto\").fit(cluster_data.T)\n",
    "    labels = kmeans.labels_\n",
    "    centers = kmeans.cluster_centers_\n",
    "    \n",
    "    return labels, centers, cluster_data  "
   ]
  },
  {
   "cell_type": "code",
   "execution_count": null,
   "metadata": {},
   "outputs": [],
   "source": [
    "# Same stuff from lecture notes:\n",
    "\n",
    "num_crp_images = len(cropped_image_list)\n",
    "crp_row, crp_col = np.shape(cropped_image_list[0])\n",
    "crp_image_mat = np.zeros((crp_row*crp_col, num_crp_images), dtype=np.float64)\n",
    "for cnt, image in enumerate(cropped_image_list):\n",
    "    crp_image_mat[:, cnt] = image.flatten()\n",
    "\n",
    "print(f\"Total number of images is: {num_crp_images}\")\n",
    "print(f\"Pixel counts are {crp_row} by {crp_col}\")"
   ]
  },
  {
   "cell_type": "markdown",
   "metadata": {},
   "source": [
    "**Problem 1**: Using the cropped image list from Homework 2, following our study of using k-means clusters on the scatter plot of `projected_images[0, :]` and `projected_images[1, :]` as shown in `Applications_of_the_SVD_and_Cluster_Analysis.ipynb`, we want to study how sensisitve the labels we used are.  To do this:\n",
    "\n",
    "* Remove 10% of the total images and then label the remaining 90% of the images.  Compare your labels that you generated for the full data set to your new ones (relative of course to the common 90% of images you are working with) and compute the average difference as a percentage of the total number of images in your 90% set.  \n",
    "\n",
    "* Repeat this process 9 more times by removing a different 10% of the data each time.  This should generate 9 more average differences.  \n",
    "\n",
    "* Plot your results and comment upon them.  How robust are the labels?  How effective would you say that our labeling scheme is?  "
   ]
  },
  {
   "cell_type": "code",
   "execution_count": null,
   "metadata": {},
   "outputs": [],
   "source": [
    "# To build your 90%/10% splits in the data, we shuffle our images first \n",
    "# and then build our modes and find our labels for the full data set \n",
    "# relative to a fixed shuffle of the image indices.  \n",
    "\n",
    "rng = np.random.default_rng()\n",
    "image_indices = np.arange(num_crp_images)\n",
    "rng.shuffle(image_indices)\n",
    "shuffled_images = crp_image_mat[:, image_indices]\n",
    "\n",
    "labels, centers, cluster_data = mode_and_kmeans_label_maker(shuffled_images)\n",
    "\n",
    "group_one = labels == 1\n",
    "group_two = labels == 0\n",
    "cluster_one = cluster_data[:, group_one]\n",
    "cluster_two = cluster_data[:, group_two]\n",
    "\n",
    "plt.scatter(cluster_one[0, :], cluster_one[1, :], s=2., c='r')\n",
    "plt.scatter(cluster_two[0, :], cluster_two[1, :], s=2., c='k')\n",
    "plt.scatter(centers[:, 0], centers[:, 1], s=40., c='g', marker='x')"
   ]
  },
  {
   "cell_type": "code",
   "execution_count": null,
   "metadata": {},
   "outputs": [],
   "source": [
    "# Now start doing your 90/10 splits.  Note, you don't need to do anymore index shuffling, \n",
    "# and if you do, the problem gets categorically more difficult.  "
   ]
  },
  {
   "cell_type": "markdown",
   "metadata": {},
   "source": [
    "**Problem 2**: Repeat the above analysis using two kmeans labels and the modes `projected_images[0, :]`, `projected_images[1, :]`, and `projected_images[3, :]`.  How do your results change?  "
   ]
  },
  {
   "cell_type": "markdown",
   "metadata": {},
   "source": [
    "**Problem 3**: Repeat the above analysis using three kmeans labels and the modes `projected_images[0, :]`, `projected_images[1, :]`, and `projected_images[3, :]`.  How do your results change?  Which would you say is the best labeling scheme?  "
   ]
  },
  {
   "cell_type": "markdown",
   "metadata": {},
   "source": []
  }
 ],
 "metadata": {
  "kernelspec": {
   "display_name": "math_596_fall_2024",
   "language": "python",
   "name": "python3"
  },
  "language_info": {
   "codemirror_mode": {
    "name": "ipython",
    "version": 3
   },
   "file_extension": ".py",
   "mimetype": "text/x-python",
   "name": "python",
   "nbconvert_exporter": "python",
   "pygments_lexer": "ipython3",
   "version": "3.12.4"
  }
 },
 "nbformat": 4,
 "nbformat_minor": 2
}
