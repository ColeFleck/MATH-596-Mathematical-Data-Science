{
 "cells": [
  {
   "cell_type": "code",
   "execution_count": 45,
   "id": "29b51707",
   "metadata": {},
   "outputs": [],
   "source": [
    "import numpy as np\n",
    "import matplotlib.pyplot as plt\n",
    "\n",
    "from scipy.signal import stft\n",
    "from scipy.io.wavfile import read as wave_read\n",
    "from scipy.fft import fft, ifft, fftshift, fft2, ifft2\n",
    "\n",
    "%matplotlib inline "
   ]
  },
  {
   "cell_type": "markdown",
   "id": "4ea231c9",
   "metadata": {},
   "source": [
    "**Problem 1** (Grad/Extra Credit): Provide a more formal proof of the result we showed in class:\n",
    "\n",
    "> Theorem: Suppose $f(t)$ is a $T$ periodic function and $f\\in C^{k}([0,T])$, where $k\\in \\mathbb{N}$.  Show that there exists a constant $M_{k}>0$ such that \n",
    "$$\n",
    "\\left|\\hat{f}_{n}\\right|\\leq M_{k}\\sqrt{T}\\left(\\frac{T}{2\\pi|n|}\\right)^{k}.  \n",
    "$$"
   ]
  },
  {
   "cell_type": "markdown",
   "id": "9a6c7afd",
   "metadata": {},
   "source": [
    "**Problem 2**: Find the Fourier transform of \n",
    "$$\n",
    "f(t) = \\left\\{\\begin{array}{rl} \n",
    "t & 0 \\leq t \\leq \\pi \\\\ \n",
    "2\\pi - t & \\pi \\leq t < 2 \\pi\n",
    "\\end{array}\\right.\n",
    "$$\n",
    "\n",
    "Comment on the behavior of its Fourier coefficients $\\hat{f}_{n}$ as $|n|\\rightarrow \\infty$.  How can you explain this behavior in light of the results from Problem 1?  "
   ]
  },
  {
   "cell_type": "markdown",
   "id": "d481db2a",
   "metadata": {},
   "source": [
    "**Problem 3**: For $f(t+T)=f(t)$ so that \n",
    "\n",
    "$$\n",
    "f(t) = \\sum_{n=-\\infty}^{\\infty} \\hat{f}_{n} e^{2\\pi i n t/T}, ~ \\hat{f}_{n} = \\frac{1}{T} \\int_{-T/2}^{T/2}f(t)e^{-2\\pi i nt/T} dt,\n",
    "$$\n",
    "\n",
    "defining $\\omega_{n} = 2\\pi n/T$ so that $\\delta \\omega = 2\\pi /T$, show that by letting $T\\rightarrow \\infty$, we have \n",
    "\n",
    "$$\n",
    "f(t) = \\frac{1}{2\\pi} \\int_{-\\infty}^{\\infty} e^{i\\omega t} \\left(\\int_{-\\infty}^{\\infty}f(t)e^{-i\\omega t}dt\\right) d\\omega\n",
    "$$"
   ]
  },
  {
   "cell_type": "markdown",
   "id": "93d7c953-7250-4002-8486-5a0f65fcee4d",
   "metadata": {},
   "source": [
    "**Problem 4**: Suppose you are given the signal \n",
    "\n",
    "$$\n",
    "d(t) = \\cos(\\omega_{0}t)I_{a}(t)\n",
    "$$\n",
    "\n",
    "using $g_{W}(s) = I(s/b), ~b > 0$, its short time Fourier transform is:\n",
    "\n",
    "$$\n",
    "\\mathcal{G}(t,\\omega)\\{d(t)\\} = \\frac{1}{a}\\int_{-a/2}^{a/2}\\cos(\\omega_{0}\\tau)I\\left(\\frac{\\tau - t}{b}\\right)e^{-i\\omega \\tau}.\n",
    "$$\n",
    "\n",
    "* For $\\omega_{0}=10$, $a=.5$ and $b=.5$, plot $\\left|\\mathcal{G}(t,\\omega)\\{d\\}\\right|$ in the $(t,\\omega)$ plane.\n",
    "* For $\\omega_{0}=10$, $a=.5$ and $b=2$, plot $\\left|\\mathcal{G}(t,\\omega)\\{d\\}\\right|$ in the $(t,\\omega)$ plane.\n",
    "* Explain the differences between the two plots.  "
   ]
  },
  {
   "cell_type": "markdown",
   "id": "2d6b1f45",
   "metadata": {},
   "source": [
    "**Problem 5** (Graduate/Extra Credit): Suppose you are given the signal \n",
    "\n",
    "$$\n",
    "d(t) = \\cos(\\omega_{0}t)I_{a}(t) + \\cos(2\\omega_{0}t)I_{a}(t-2)\n",
    "$$\n",
    "\n",
    "* Plot $d(t)$ and comment on its behavior.  \n",
    "* Using $g_{W}(s) = I(s/b), b > 0$ repeat your analysis above for $\\omega_{0}=10$, $a=.5$ and $b=.5$.  Explain your results. "
   ]
  },
  {
   "cell_type": "markdown",
   "id": "3dca0eb8",
   "metadata": {},
   "source": [
    "**Problem 6**: Generate a short-time Fourier transform decomposition of Cantina60.wav.  Explain your parameter choices, and show possible alternative representations of your STFT and why you finally chose the one that you did.  You should also make recourse to the song itself and use that to help you explain your decision making process."
   ]
  },
  {
   "cell_type": "markdown",
   "id": "10bdd1f1",
   "metadata": {},
   "source": []
  }
 ],
 "metadata": {
  "kernelspec": {
   "display_name": "Python 3 (ipykernel)",
   "language": "python",
   "name": "python3"
  },
  "language_info": {
   "codemirror_mode": {
    "name": "ipython",
    "version": 3
   },
   "file_extension": ".py",
   "mimetype": "text/x-python",
   "name": "python",
   "nbconvert_exporter": "python",
   "pygments_lexer": "ipython3",
   "version": "3.12.4"
  }
 },
 "nbformat": 4,
 "nbformat_minor": 5
}
