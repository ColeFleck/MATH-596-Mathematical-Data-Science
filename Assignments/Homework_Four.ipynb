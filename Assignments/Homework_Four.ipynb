{
 "cells": [
  {
   "cell_type": "code",
   "execution_count": 2,
   "id": "77d4ccaa-bc56-4474-9709-02fad1193914",
   "metadata": {},
   "outputs": [],
   "source": [
    "from scipy.fft import fft, ifft, fftshift, fft2, ifft2\n",
    "from scipy.signal import stft\n",
    "from scipy.io.wavfile import read as wave_read\n",
    "\n",
    "import numpy as np\n",
    "from skimage import io\n",
    "import pywt # note, you'll need to install via \"pip install PyWavelets\" in either a conda shell or a Colab notebook\n",
    "\n",
    "import matplotlib.pyplot as plt\n",
    "%matplotlib inline "
   ]
  },
  {
   "cell_type": "markdown",
   "id": "30e93302-cc43-404c-b2f1-8a543a10725b",
   "metadata": {},
   "source": [
    "**Problem 1**: Generate a short-time Fourier transform decomposition of Cantina60.wav.  Explain your parameter choices, and show possible alternative representations of your STFT and why you finally chose the one that you did.  You should also make recourse to the song itself and use that to help you explain your decision making process.   "
   ]
  },
  {
   "cell_type": "markdown",
   "id": "8f2c5225-c863-4a7e-add6-92d7966a90b3",
   "metadata": {},
   "source": [
    "**Problem 2**: Using beans.jpg, or whichever (school appropriate) image you prefer, and following the model for how we built an image approximation using the approximation coefficiets from a wavelet decomposition, create corresponding images for each of the different levels of detail in decomposition.  Use three levels of decomposition.  "
   ]
  },
  {
   "cell_type": "markdown",
   "id": "40af1124-c450-4f6c-92b7-ad8fae3ac83b",
   "metadata": {},
   "source": [
    "**Problem 3**: Using the results from above, generate Fourier transforms of each detail image you reconstruct.  Explain and compare your results from doing this.  "
   ]
  },
  {
   "cell_type": "code",
   "execution_count": null,
   "id": "0b8c739d-e9de-47a4-a734-20ccf054e291",
   "metadata": {},
   "outputs": [],
   "source": []
  }
 ],
 "metadata": {
  "kernelspec": {
   "display_name": "Python 3 (ipykernel)",
   "language": "python",
   "name": "python3"
  },
  "language_info": {
   "codemirror_mode": {
    "name": "ipython",
    "version": 3
   },
   "file_extension": ".py",
   "mimetype": "text/x-python",
   "name": "python",
   "nbconvert_exporter": "python",
   "pygments_lexer": "ipython3",
   "version": "3.11.4"
  }
 },
 "nbformat": 4,
 "nbformat_minor": 5
}
