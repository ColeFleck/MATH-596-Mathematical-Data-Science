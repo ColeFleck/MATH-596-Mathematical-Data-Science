{
 "cells": [
  {
   "cell_type": "code",
   "execution_count": null,
   "id": "4797e70f",
   "metadata": {},
   "outputs": [],
   "source": [
    "import numpy as np\n",
    "import matplotlib.pyplot as plt\n",
    "%matplotlib inline"
   ]
  },
  {
   "cell_type": "markdown",
   "id": "2c5b3f65",
   "metadata": {},
   "source": [
    "**Problem 1**: For the matrix $A:\\mathbb{R}^{2}\\rightarrow \\mathbb{R}^{3}$ where \n",
    "\n",
    "$$\n",
    "A = \\begin{pmatrix} 1 & 3 \\\\ 3 & 2 \\\\ 1 & 2 \\end{pmatrix}\n",
    "$$\n",
    "\n",
    "find \n",
    "* $\\mbox{ker}(A)$, $\\mbox{rng}(A^{T})$, and illustrate their relationship\n",
    "* $\\mbox{ker}(A^{T})$, $\\mbox{rng}(A)$, and illustrate their relationship\n",
    "* $\\mbox{rank}(A)$\n",
    "\n",
    "Then:\n",
    "* Given ${\\bf b} = (1 ~ 10 ~ 2)^{T}$, determine if $A{\\bf x}={\\bf b}$ has a solution.  Is it unique?  \n",
    "* Given ${\\bf b} = (1 ~ 10 ~ 1)^{T}$, determine if $A{\\bf x}={\\bf b}$ has a solution.  Is it unique?  \n"
   ]
  },
  {
   "cell_type": "markdown",
   "id": "ed99fdd2",
   "metadata": {},
   "source": [
    "**Problem 2**: We will now explore solving $A{\\bf x}={\\bf b}$ numerically.  First fill in the code skeleton below."
   ]
  },
  {
   "cell_type": "code",
   "execution_count": null,
   "id": "c91e075b",
   "metadata": {},
   "outputs": [],
   "source": [
    "Amat = np.zeros((3, 2))\n",
    "bvec1 = np.zeros(3)\n",
    "bvec2 = np.zeros(3)\n",
    "\n",
    "Amat[0, 0] = \n",
    "Amat[0, 1] = \n",
    "Amat[1, 0] = \n",
    "Amat[1, 1] = \n",
    "Amat[2, 0] = \n",
    "Amat[2, 1] = \n",
    "\n",
    "bvec1[0] = 1\n",
    "bvec1[1] = 10\n",
    "bvec1[2] = 2\n",
    "\n",
    "bvec2[0] = \n",
    "bvec2[1] = \n",
    "bvec2[2] = \n",
    "\n",
    "sol1 = np.linalg.lstsq( Amat, bvec1 , rcond=None)\n",
    "sol2 = np.linalg.lstsq( Amat, bvec2 , rcond=None)"
   ]
  },
  {
   "cell_type": "code",
   "execution_count": null,
   "id": "7aff2015",
   "metadata": {},
   "outputs": [],
   "source": [
    "print(f\"The solution for b={[val for val in bvec1]} is x={sol1[0]}\")\n",
    "print(f\"The solution for b={[val for val in bvec2]} is x={sol2[0]}\")"
   ]
  },
  {
   "cell_type": "markdown",
   "id": "b87cad60",
   "metadata": {},
   "source": [
    "The command `lstsq` found a solution to a problem that isn't supposed to have one.  What problem do you think it's actually solving?  "
   ]
  },
  {
   "cell_type": "code",
   "execution_count": null,
   "id": "c214a9bc",
   "metadata": {},
   "outputs": [],
   "source": []
  }
 ],
 "metadata": {
  "kernelspec": {
   "display_name": "Python 3 (ipykernel)",
   "language": "python",
   "name": "python3"
  },
  "language_info": {
   "codemirror_mode": {
    "name": "ipython",
    "version": 3
   },
   "file_extension": ".py",
   "mimetype": "text/x-python",
   "name": "python",
   "nbconvert_exporter": "python",
   "pygments_lexer": "ipython3",
   "version": "3.9.7"
  }
 },
 "nbformat": 4,
 "nbformat_minor": 5
}
