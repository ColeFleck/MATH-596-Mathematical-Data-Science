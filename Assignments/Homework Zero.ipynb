{
 "cells": [
  {
   "cell_type": "code",
   "execution_count": null,
   "id": "4797e70f",
   "metadata": {},
   "outputs": [],
   "source": [
    "import numpy as np\n",
    "import matplotlib.pyplot as plt\n",
    "%matplotlib inline"
   ]
  },
  {
   "cell_type": "markdown",
   "id": "8319f89b",
   "metadata": {},
   "source": [
    "### Homework Zero: Due Wednesday, 9/4/24 by 5 PM in your Google Drive Folder.  "
   ]
  },
  {
   "cell_type": "markdown",
   "id": "2c5b3f65",
   "metadata": {},
   "source": [
    "**Problem 1**: For the matrix $A:\\mathbb{R}^{2}\\rightarrow \\mathbb{R}^{3}$ where \n",
    "\n",
    "$$\n",
    "A = \\begin{pmatrix} 1 & 3 \\\\ 3 & 2 \\\\ 1 & 2 \\end{pmatrix}\n",
    "$$\n",
    "\n",
    "find \n",
    "* $\\text{ker}(A)$, $\\text{rng}(A^{T})$, and illustrate their relationship\n",
    "* $\\text{ker}(A^{T})$, $\\text{rng}(A)$, and illustrate their relationship\n",
    "* $\\text{rank}(A)$\n",
    "\n",
    "Then:\n",
    "* Given ${\\bf b} = (1 ~ 10 ~ 2)^{T}$, determine if $A{\\bf x}={\\bf b}$ has a solution.  Is it unique?  \n",
    "* Given ${\\bf b} = (1 ~ 10 ~ 1)^{T}$, determine if $A{\\bf x}={\\bf b}$ has a solution.  Is it unique?  \n"
   ]
  },
  {
   "cell_type": "markdown",
   "id": "ed99fdd2",
   "metadata": {},
   "source": [
    "**Problem 2**: We will now explore solving $A{\\bf x}={\\bf b}$ numerically.  First fill in the code skeleton below."
   ]
  },
  {
   "cell_type": "code",
   "execution_count": null,
   "id": "c91e075b",
   "metadata": {},
   "outputs": [],
   "source": [
    "Amat = np.zeros((3, 2))\n",
    "bvec1 = np.zeros(3)\n",
    "bvec2 = np.zeros(3)\n",
    "\n",
    "Amat[0, 0] = \n",
    "Amat[0, 1] = \n",
    "Amat[1, 0] = \n",
    "Amat[1, 1] = \n",
    "Amat[2, 0] = \n",
    "Amat[2, 1] = \n",
    "\n",
    "bvec1[0] = 1\n",
    "bvec1[1] = 10\n",
    "bvec1[2] = 2\n",
    "\n",
    "bvec2[0] = \n",
    "bvec2[1] = \n",
    "bvec2[2] = \n",
    "\n",
    "sol1 = np.linalg.lstsq( Amat, bvec1 , rcond=None)\n",
    "sol2 = np.linalg.lstsq( Amat, bvec2 , rcond=None)"
   ]
  },
  {
   "cell_type": "code",
   "execution_count": null,
   "id": "7aff2015",
   "metadata": {},
   "outputs": [],
   "source": [
    "print(f\"The solution for b={[val for val in bvec1]} is x={sol1[0]}\")\n",
    "print(f\"The solution for b={[val for val in bvec2]} is x={sol2[0]}\")"
   ]
  },
  {
   "cell_type": "markdown",
   "id": "b87cad60",
   "metadata": {},
   "source": [
    "The command `lstsq` found a solution to a problem that isn't supposed to have one.  What problem do you think it's actually solving?  "
   ]
  },
  {
   "cell_type": "markdown",
   "id": "c214a9bc",
   "metadata": {},
   "source": [
    "**Problem 3**: For $A:\\mathbb{C}^{n}\\rightarrow \\mathbb{C}^{m}$, show that $\\left<A{\\bf x},{\\bf y} \\right> = \\left<{\\bf x}, A^{\\dagger}{\\bf y} \\right>$, where $A^{\\dagger}_{ij} = A^{\\ast}_{ji}$ and \n",
    "\n",
    "$$\n",
    "\\left(A{\\bf x}\\right)_{l} = \\sum_{j=1}^{n}A_{lj}x_{j}, ~ l=1, \\cdots, m.\n",
    "$$"
   ]
  },
  {
   "cell_type": "markdown",
   "id": "ae80ed85",
   "metadata": {},
   "source": [
    "**Problem 4**: (Graduate Level/Extra Credit) In class, we showed for matrix $A$ such that $A:\\mathbb{C}^{n}\\rightarrow \\mathbb{C}^{m}$ that \n",
    "\n",
    "$$\n",
    "\\text{ker}(A^{\\dagger}) \\perp \\text{rng}(A).\n",
    "$$\n",
    "\n",
    "Now show that $\\mathbb{C}^{m} = \\text{ker}(A^{\\dagger}) \\oplus \\text{rng}(A)$.  To do this, suppose that $\\exists {\\bf y}\\in \\mathbb{C}^{m}, {\\bf y}\\neq 0, ~{\\bf y} \\notin \\text{ker}(A^{\\dagger}) \\oplus \\text{rng}(A)$.  \n",
    " * Why can we assume without loss of generality that ${\\bf y}\\perp \\text{ker}(A^{\\dagger})$ and ${\\bf y}\\perp\\text{rng}(A)$?\n",
    " * Given the above, we have $\\forall {\\bf x}\\in \\mathbb{C}^{n}, \\left<{\\bf y}, A{\\bf x}\\right>=0$.  What choice of ${\\bf x}$ shows us that ${\\bf y}=0$?\n",
    " * Why does this give you the result?  "
   ]
  },
  {
   "cell_type": "markdown",
   "id": "a5092962",
   "metadata": {},
   "source": [
    "**Problem 5**: (Graduate Level/Extra Credit) In class, using the result from Problem 4, we also showed that \n",
    "$$\n",
    "\\text{dim}\\left(\\text{rng}(A^{\\dagger})\\right) \\leq \\text{dim}\\left(\\text{rng}(A)\\right)\n",
    "$$\n",
    "\n",
    "Using the same methodology, show the reverse inequality and thus complete the proof of the Fundamental Theorem of Linear Algebra.  "
   ]
  },
  {
   "cell_type": "markdown",
   "id": "ffe27321",
   "metadata": {},
   "source": []
  }
 ],
 "metadata": {
  "kernelspec": {
   "display_name": "Python 3 (ipykernel)",
   "language": "python",
   "name": "python3"
  },
  "language_info": {
   "codemirror_mode": {
    "name": "ipython",
    "version": 3
   },
   "file_extension": ".py",
   "mimetype": "text/x-python",
   "name": "python",
   "nbconvert_exporter": "python",
   "pygments_lexer": "ipython3",
   "version": "3.9.7"
  }
 },
 "nbformat": 4,
 "nbformat_minor": 5
}
